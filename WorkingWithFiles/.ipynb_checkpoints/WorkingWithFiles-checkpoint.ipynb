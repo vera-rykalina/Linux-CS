{
 "cells": [
  {
   "cell_type": "markdown",
   "id": "f514791d-6761-4c55-9ae2-f1b644af67ee",
   "metadata": {},
   "source": [
    "# Working with Files Exercise"
   ]
  },
  {
   "cell_type": "markdown",
   "id": "c75062ef-0a03-4879-8082-92ea5da8fccc",
   "metadata": {},
   "source": [
    "#### <span style='color:green'> FilesExercise.zip </span>\n",
    "#### Once you have downloaded the above zip file, unzip it! It contains two files: <span style='color:green'> poem.txt </span> and <span style='color:green'> purchases.txt </span>"
   ]
  },
  {
   "cell_type": "code",
   "execution_count": 1,
   "id": "f09618eb-2eb1-4fdc-a33b-885feed8d8e0",
   "metadata": {},
   "outputs": [
    {
     "name": "stdout",
     "output_type": "stream",
     "text": [
      "/Users/vera/Learning/Udemy/TheLinuxCommandLineBootcampColtSteel\n"
     ]
    }
   ],
   "source": [
    "!pwd"
   ]
  },
  {
   "cell_type": "code",
   "execution_count": 2,
   "id": "67a9fd33-c290-4006-bc42-47837334ea1a",
   "metadata": {},
   "outputs": [
    {
     "name": "stdout",
     "output_type": "stream",
     "text": [
      "/Users/vera/Learning/Udemy/TheLinuxCommandLineBootcampColtSteel/WorkingWithFiles\n"
     ]
    }
   ],
   "source": [
    "%cd WorkingWithFiles/"
   ]
  },
  {
   "cell_type": "code",
   "execution_count": 3,
   "id": "d70cb410-45eb-4b5e-8a5f-2556e0dd8670",
   "metadata": {},
   "outputs": [
    {
     "name": "stdout",
     "output_type": "stream",
     "text": [
      "FilesExercise.zip      WorkingWithFiles.ipynb\n"
     ]
    }
   ],
   "source": [
    "!ls"
   ]
  },
  {
   "cell_type": "code",
   "execution_count": 4,
   "id": "b4724135-1e2a-49d6-83ca-eabb7d735463",
   "metadata": {},
   "outputs": [
    {
     "name": "stdout",
     "output_type": "stream",
     "text": [
      "Archive:  FilesExercise.zip\n",
      "   creating: FilesExercise/\n",
      "  inflating: FilesExercise/poem.txt  \n",
      "  inflating: FilesExercise/purchases.txt  \n"
     ]
    }
   ],
   "source": [
    "# Do it once\n",
    "!unzip FilesExercise.zip"
   ]
  },
  {
   "cell_type": "markdown",
   "id": "b393a08d-1396-43c4-aafe-d1f3088d41e8",
   "metadata": {},
   "source": [
    "## Part 1"
   ]
  },
  {
   "cell_type": "markdown",
   "id": "c2bf66be-3d90-4d8f-b0de-aadb6e732520",
   "metadata": {},
   "source": [
    "#### 1.1. Use a command to print out the entire contents of the <span style='color:green'> poem.txt </span> file. Use an option so that the output also includes line numbers."
   ]
  },
  {
   "cell_type": "code",
   "execution_count": 5,
   "id": "a4fb43af-baa7-4469-9a5b-4badefaf47bb",
   "metadata": {},
   "outputs": [
    {
     "name": "stdout",
     "output_type": "stream",
     "text": [
      "/Users/vera/Learning/Udemy/TheLinuxCommandLineBootcampColtSteel/WorkingWithFiles/FilesExercise\n"
     ]
    }
   ],
   "source": [
    "%cd FilesExercise/"
   ]
  },
  {
   "cell_type": "code",
   "execution_count": 7,
   "id": "f2d5fae3-1dd7-420b-948b-1761d147190f",
   "metadata": {},
   "outputs": [
    {
     "name": "stdout",
     "output_type": "stream",
     "text": [
      "     1\tTo see a World in a Grain of Sand\n",
      "     2\tAnd a Heaven in a Wild Flower \n",
      "     3\tHold Infinity in the palm of your hand \n",
      "     4\tAnd Eternity in an hour\n",
      "     5\tA Robin Red breast in a Cage\n",
      "     6\tPuts all Heaven in a Rage \n",
      "     7\tA Dove house filld with Doves & Pigeons\n",
      "     8\tShudders Hell thr' all its regions \n",
      "     9\tA dog starvd at his Masters Gate\n",
      "    10\tPredicts the ruin of the State \n",
      "    11\tA Horse misusd upon the Road\n",
      "    12\tCalls to Heaven for Human blood \n",
      "    13\tEach outcry of the hunted Hare\n",
      "    14\tA fibre from the Brain does tear \n",
      "    15\tA Skylark wounded in the wing \n",
      "    16\tA Cherubim does cease to sing \n",
      "    17\tThe Game Cock clipd & armd for fight\n",
      "    18\tDoes the Rising Sun affright \n",
      "    19\tEvery Wolfs & Lions howl\n",
      "    20\tRaises from Hell a Human Soul \n",
      "    21\tThe wild deer, wandring here & there \n",
      "    22\tKeeps the Human Soul from Care \n",
      "    23\tThe Lamb misusd breeds Public Strife\n",
      "    24\tAnd yet forgives the Butchers knife \n",
      "    25\tThe Bat that flits at close of Eve\n",
      "    26\tHas left the Brain that wont Believe\n",
      "    27\tThe Owl that calls upon the Night\n",
      "    28\tSpeaks the Unbelievers fright\n",
      "    29\tHe who shall hurt the little Wren\n",
      "    30\tShall never be belovd by Men \n",
      "    31\tHe who the Ox to wrath has movd\n",
      "    32\tShall never be by Woman lovd\n",
      "    33\tThe wanton Boy that kills the Fly\n",
      "    34\tShall feel the Spiders enmity \n",
      "    35\tHe who torments the Chafers Sprite\n",
      "    36\tWeaves a Bower in endless Night \n",
      "    37\tThe Catterpiller on the Leaf\n",
      "    38\tRepeats to thee thy Mothers grief \n",
      "    39\tKill not the Moth nor Butterfly \n",
      "    40\tFor the Last Judgment draweth nigh \n",
      "    41\tHe who shall train the Horse to War\n",
      "    42\tShall never pass the Polar Bar \n",
      "    43\tThe Beggars Dog & Widows Cat \n",
      "    44\tFeed them & thou wilt grow fat \n",
      "    45\tThe Gnat that sings his Summers Song\n",
      "    46\tPoison gets from Slanders tongue \n",
      "    47\tThe poison of the Snake & Newt\n",
      "    48\tIs the sweat of Envys Foot \n",
      "    49\tThe poison of the Honey Bee\n",
      "    50\tIs the Artists Jealousy\n",
      "    51\tThe Princes Robes & Beggars Rags\n",
      "    52\tAre Toadstools on the Misers Bags \n",
      "    53\tA Truth thats told with bad intent\n",
      "    54\tBeats all the Lies you can invent \n",
      "    55\tIt is right it should be so \n",
      "    56\tMan was made for Joy & Woe \n",
      "    57\tAnd when this we rightly know \n",
      "    58\tThro the World we safely go \n",
      "    59\tJoy & Woe are woven fine \n",
      "    60\tA Clothing for the soul divine \n",
      "    61\tUnder every grief & pine\n",
      "    62\tRuns a joy with silken twine \n",
      "    63\tThe Babe is more than swadling Bands\n",
      "    64\tThroughout all these Human Lands\n",
      "    65\tTools were made & Born were hands \n",
      "    66\tEvery Farmer Understands\n",
      "    67\tEvery Tear from Every Eye\n",
      "    68\tBecomes a Babe in Eternity \n",
      "    69\tThis is caught by Females bright\n",
      "    70\tAnd returnd to its own delight \n",
      "    71\tThe Bleat the Bark Bellow & Roar \n",
      "    72\tAre Waves that Beat on Heavens Shore \n",
      "    73\tThe Babe that weeps the Rod beneath\n",
      "    74\tWrites Revenge in realms of Death \n",
      "    75\tThe Beggars Rags fluttering in Air\n",
      "    76\tDoes to Rags the Heavens tear \n",
      "    77\tThe Soldier armd with Sword & Gun \n",
      "    78\tPalsied strikes the Summers Sun\n",
      "    79\tThe poor Mans Farthing is worth more\n",
      "    80\tThan all the Gold on Africs Shore\n",
      "    81\tOne Mite wrung from the Labrers hands\n",
      "    82\tShall buy & sell the Misers Lands \n",
      "    83\tOr if protected from on high \n",
      "    84\tDoes that whole Nation sell & buy \n",
      "    85\tHe who mocks the Infants Faith\n",
      "    86\tShall be mockd in Age & Death \n",
      "    87\tHe who shall teach the Child to Doubt\n",
      "    88\tThe rotting Grave shall neer get out \n",
      "    89\tHe who respects the Infants faith\n",
      "    90\tTriumphs over Hell & Death \n",
      "    91\tThe Childs Toys & the Old Mans Reasons\n",
      "    92\tAre the Fruits of the Two seasons \n",
      "    93\tThe Questioner who sits so sly \n",
      "    94\tShall never know how to Reply \n",
      "    95\tHe who replies to words of Doubt\n",
      "    96\tDoth put the Light of Knowledge out \n",
      "    97\tThe Strongest Poison ever known\n",
      "    98\tCame from Caesars Laurel Crown \n",
      "    99\tNought can Deform the Human Race\n",
      "   100\tLike to the Armours iron brace \n",
      "   101\tWhen Gold & Gems adorn the Plow\n",
      "   102\tTo peaceful Arts shall Envy Bow \n",
      "   103\tA Riddle or the Crickets Cry\n",
      "   104\tIs to Doubt a fit Reply \n",
      "   105\tThe Emmets Inch & Eagles Mile\n",
      "   106\tMake Lame Philosophy to smile \n",
      "   107\tHe who Doubts from what he sees\n",
      "   108\tWill neer Believe do what you Please \n",
      "   109\tIf the Sun & Moon should Doubt \n",
      "   110\tTheyd immediately Go out \n",
      "   111\tTo be in a Passion you Good may Do \n",
      "   112\tBut no Good if a Passion is in you \n",
      "   113\tThe Whore & Gambler by the State\n",
      "   114\tLicencd build that Nations Fate \n",
      "   115\tThe Harlots cry from Street to Street \n",
      "   116\tShall weave Old Englands winding Sheet \n",
      "   117\tThe Winners Shout the Losers Curse \n",
      "   118\tDance before dead Englands Hearse \n",
      "   119\tEvery Night & every Morn\n",
      "   120\tSome to Misery are Born \n",
      "   121\tEvery Morn and every Night\n",
      "   122\tSome are Born to sweet delight \n",
      "   123\tSome are Born to sweet delight \n",
      "   124\tSome are Born to Endless Night \n",
      "   125\tWe are led to Believe a Lie\n",
      "   126\tWhen we see not Thro the Eye\n",
      "   127\tWhich was Born in a Night to perish in a Night \n",
      "   128\tWhen the Soul Slept in Beams of Light \n",
      "   129\tGod Appears & God is Light\n",
      "   130\tTo those poor Souls who dwell in Night \n",
      "   131\tBut does a Human Form Display\n",
      "   132\tTo those who Dwell in Realms of day\n"
     ]
    }
   ],
   "source": [
    "!cat -n poem.txt"
   ]
  },
  {
   "cell_type": "markdown",
   "id": "eff50d24-f550-4df1-a19a-1b2164d8e0ae",
   "metadata": {},
   "source": [
    "#### 1.2. That is a headache to read all at once! Read poem.txt using <span style='color:red'> less </span> instead. "
   ]
  },
  {
   "cell_type": "code",
   "execution_count": null,
   "id": "0c26fda3-af01-450d-a82c-becc54c617fc",
   "metadata": {},
   "outputs": [
    {
     "name": "stdout",
     "output_type": "stream",
     "text": [
      "To see a World in a Grain of Sand\n",
      "And a Heaven in a Wild Flower \n",
      "Hold Infinity in the palm of your hand \n",
      "And Eternity in an hour\n",
      "A Robin Red breast in a Cage\n",
      "Puts all Heaven in a Rage \n",
      "A Dove house filld with Doves & Pigeons\n",
      "Shudders Hell thr' all its regions \n",
      "A dog starvd at his Masters Gate\n",
      "Predicts the ruin of the State \n",
      "A Horse misusd upon the Road\n",
      "Calls to Heaven for Human blood \n",
      "Each outcry of the hunted Hare\n",
      "A fibre from the Brain does tear \n",
      "A Skylark wounded in the wing \n",
      "A Cherubim does cease to sing \n",
      "The Game Cock clipd & armd for fight\n",
      "Does the Rising Sun affright \n",
      "Every Wolfs & Lions howl\n",
      "Raises from Hell a Human Soul \n",
      "The wild deer, wandring here & there \n",
      "Keeps the Human Soul from Care \n",
      "The Lamb misusd breeds Public Strife\n",
      "\u001b[7mpoem.txt\u001b[m\u001b[K"
     ]
    }
   ],
   "source": [
    "# This command should be run in the terminal\n",
    "!less poem.txt"
   ]
  },
  {
   "cell_type": "markdown",
   "id": "788a9914-64a8-4ec2-b4b5-7175eb7c3329",
   "metadata": {},
   "source": [
    "- Scroll down one line at a time -> Use down arrow key\n",
    "- Scroll up one line at a time -> Use up arrow key\n",
    "- Scroll down one \"page\" at a time -> Use space key (or f key)\n",
    "- Scroll up one \"page\" at a time -> Use b key"
   ]
  },
  {
   "cell_type": "markdown",
   "id": "715c9e2c-5d7a-42b0-98e1-c04515c7a9f3",
   "metadata": {},
   "source": [
    "#### 1.3. Search within less for the term \"Dog\". Can you find the line that contains it? "
   ]
  },
  {
   "cell_type": "code",
   "execution_count": null,
   "id": "584bb22c-05a6-4ade-8952-b4285e4ae733",
   "metadata": {},
   "outputs": [],
   "source": [
    "# This exercise should be done in the terminal\n",
    "# Use less poem.txt and then type /Dog\n",
    "# This is the line which contains it: \"The Beggars Dog & Widows Cat\""
   ]
  },
  {
   "cell_type": "markdown",
   "id": "34d042a2-1484-4e90-9817-ccab9541235e",
   "metadata": {},
   "source": [
    "## BONUS"
   ]
  },
  {
   "cell_type": "markdown",
   "id": "541494f6-b534-435a-aeaa-357381e2a0be",
   "metadata": {},
   "source": [
    "#### Can you run a case-insesitive search?  The poem contains both \"dog\" and \"Dog\" on separate lines."
   ]
  },
  {
   "cell_type": "code",
   "execution_count": 30,
   "id": "152421df-47c8-4889-a3a9-d1cfd7210cd8",
   "metadata": {},
   "outputs": [],
   "source": [
    "# This exercise should be done in the terminal\n",
    "# less -i -p dog poem.txt (then scroll down) or less -I poem.txt -> &/dog for search\n",
    "# It finds: \n",
    "# \"A dog starvd at his Masters Gate\"\n",
    "# \"The Beggars Dog & Widows Cat\""
   ]
  },
  {
   "cell_type": "markdown",
   "id": "876835b9-648d-42f5-b3c0-2579e725e476",
   "metadata": {},
   "source": [
    "#### 1.4. Now it's time to do some research! Find the option to tell <span style='color:red'> less </span> to open with lines numbers displayed. Open <span style='color:green'> poem.txt </span> this way"
   ]
  },
  {
   "cell_type": "code",
   "execution_count": 11,
   "id": "63ec8537-1a32-4aef-bcc4-c9f536bd2baf",
   "metadata": {},
   "outputs": [],
   "source": [
    "# This exercise should be done in the terminal\n",
    "# less -N poem.txt "
   ]
  },
  {
   "cell_type": "markdown",
   "id": "201bec54-b521-4035-94b1-eac0b09f59f3",
   "metadata": {},
   "source": [
    "#### 1.5. Then find the \"command\" you can type into <span style='color:red'> less </span> to go to exactly 50% of the way through the file."
   ]
  },
  {
   "cell_type": "code",
   "execution_count": 32,
   "id": "8fa6a647-0cfb-4d9e-9a27-0dcb88ccebed",
   "metadata": {},
   "outputs": [],
   "source": [
    "# This exercise should be done in the terminal\n",
    "# less -N poem.txt and then hit enter and type 50% "
   ]
  },
  {
   "cell_type": "markdown",
   "id": "c6ab0470-a0a6-4cc2-8cac-0e6fa7f47f63",
   "metadata": {},
   "source": [
    "#### 1.6. Use a command to find the number of **words** in <span style='color:green'> poem.txt </span>."
   ]
  },
  {
   "cell_type": "code",
   "execution_count": 13,
   "id": "bc0d61c3-7bf7-4e10-b9c6-361f78c30a73",
   "metadata": {},
   "outputs": [
    {
     "name": "stdout",
     "output_type": "stream",
     "text": [
      "     839 poem.txt\n"
     ]
    }
   ],
   "source": [
    "!wc -w poem.txt"
   ]
  },
  {
   "cell_type": "markdown",
   "id": "2377371f-2e13-4bdc-9d58-70fd25444b3c",
   "metadata": {},
   "source": [
    "#### 1.7. Use a command to print out the first 4 lines in <span style='color:green'> poem.txt </span>."
   ]
  },
  {
   "cell_type": "code",
   "execution_count": 15,
   "id": "44e70f14-264f-4905-8cf1-1ec48cfa160f",
   "metadata": {},
   "outputs": [
    {
     "name": "stdout",
     "output_type": "stream",
     "text": [
      "To see a World in a Grain of Sand\n",
      "And a Heaven in a Wild Flower \n",
      "Hold Infinity in the palm of your hand \n",
      "And Eternity in an hour\n"
     ]
    }
   ],
   "source": [
    "!head -4 poem.txt"
   ]
  },
  {
   "cell_type": "markdown",
   "id": "973d71cd-946f-4b6e-aa41-98daaf6d2d81",
   "metadata": {},
   "source": [
    "#### 1.8. Use a command to print out the last 8 lines in <span style='color:green'> poem.txt </span>."
   ]
  },
  {
   "cell_type": "code",
   "execution_count": 17,
   "id": "f25765aa-b3d0-4126-890c-dbb8eb711b67",
   "metadata": {},
   "outputs": [
    {
     "name": "stdout",
     "output_type": "stream",
     "text": [
      "We are led to Believe a Lie\n",
      "When we see not Thro the Eye\n",
      "Which was Born in a Night to perish in a Night \n",
      "When the Soul Slept in Beams of Light \n",
      "God Appears & God is Light\n",
      "To those poor Souls who dwell in Night \n",
      "But does a Human Form Display\n",
      "To those who Dwell in Realms of day\n"
     ]
    }
   ],
   "source": [
    "!tail -8 poem.txt"
   ]
  },
  {
   "cell_type": "markdown",
   "id": "24cd40a9-3d7b-4ad9-ac9c-13db893b7e76",
   "metadata": {},
   "source": [
    "## Part 2"
   ]
  },
  {
   "cell_type": "markdown",
   "id": "98881125-8c71-4c34-9a7e-ecd35f5416c2",
   "metadata": {},
   "source": [
    "#### 2.1. Run a command to print out the lines in <span style='color:green'> purchases.txt </span> in reverse order (last line printed first)"
   ]
  },
  {
   "cell_type": "code",
   "execution_count": 22,
   "id": "372debe7-de9e-46ba-b906-1bba4c32a1cb",
   "metadata": {},
   "outputs": [
    {
     "name": "stdout",
     "output_type": "stream",
     "text": [
      "steve1      paypal     19.99\n",
      "steve1      paypal     34.99\n",
      "sherif12    credit     456.75\n",
      "robert91    credit     12.00\n",
      "sherif12    paypal     99.99\n",
      "amelie54    paypal     195.50\n",
      "robert91    credit     49.50\n"
     ]
    }
   ],
   "source": [
    "!tac purchases.txt "
   ]
  },
  {
   "cell_type": "markdown",
   "id": "25916557-5d29-4285-86cd-bf2476bb50ce",
   "metadata": {},
   "source": [
    "#### 2.2. Run a command to print out the lines in <span style='color:green'> purchases.txt </span>, sorted alphabetically."
   ]
  },
  {
   "cell_type": "code",
   "execution_count": 24,
   "id": "9cffd18e-1e77-44fe-a5dd-14abcfcf744c",
   "metadata": {},
   "outputs": [
    {
     "name": "stdout",
     "output_type": "stream",
     "text": [
      "amelie54    paypal     195.50\n",
      "robert91    credit     12.00\n",
      "robert91    credit     49.50\n",
      "sherif12    credit     456.75\n",
      "sherif12    paypal     99.99\n",
      "steve1      paypal     19.99\n",
      "steve1      paypal     34.99\n"
     ]
    }
   ],
   "source": [
    "!sort purchases.txt"
   ]
  },
  {
   "cell_type": "markdown",
   "id": "a78e17dd-672b-4a32-b3db-10fe7ad8ddfe",
   "metadata": {},
   "source": [
    "#### 2.3. Run a command to print out the ***lines*** in <span style='color:green'> purchases.txt </span>."
   ]
  },
  {
   "cell_type": "code",
   "execution_count": 25,
   "id": "5d40e659-d7fe-49c9-abff-0cf0be908e6a",
   "metadata": {},
   "outputs": [
    {
     "name": "stdout",
     "output_type": "stream",
     "text": [
      "       7 purchases.txt\n"
     ]
    }
   ],
   "source": [
    "!wc -l purchases.txt"
   ]
  },
  {
   "cell_type": "markdown",
   "id": "4f61159c-eb64-4c28-ab58-b280e616c3d1",
   "metadata": {},
   "source": [
    "#### 2.4. Run a command to print out the ***lines*** in <span style='color:green'> purchases.txt </span>, sorted by the price (the final column) in the dataset in REVERSE order (highest price to lowest price)"
   ]
  },
  {
   "cell_type": "code",
   "execution_count": 29,
   "id": "acc35d8f-8353-43c6-b5ab-c50be22fb8fe",
   "metadata": {},
   "outputs": [
    {
     "name": "stdout",
     "output_type": "stream",
     "text": [
      "sherif12    credit     456.75\n",
      "amelie54    paypal     195.50\n",
      "sherif12    paypal     99.99\n",
      "robert91    credit     49.50\n",
      "steve1      paypal     34.99\n",
      "steve1      paypal     19.99\n",
      "robert91    credit     12.00\n"
     ]
    }
   ],
   "source": [
    "!sort -r -n -k3 purchases.txt"
   ]
  }
 ],
 "metadata": {
  "kernelspec": {
   "display_name": "Python 3",
   "language": "python",
   "name": "python3"
  },
  "language_info": {
   "codemirror_mode": {
    "name": "ipython",
    "version": 3
   },
   "file_extension": ".py",
   "mimetype": "text/x-python",
   "name": "python",
   "nbconvert_exporter": "python",
   "pygments_lexer": "ipython3",
   "version": "3.9.12"
  }
 },
 "nbformat": 4,
 "nbformat_minor": 5
}
