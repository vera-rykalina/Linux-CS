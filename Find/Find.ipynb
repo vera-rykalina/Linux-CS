{
 "cells": [
  {
   "cell_type": "markdown",
   "id": "1cf08dfd-f645-4c38-b88d-56f419d72fad",
   "metadata": {},
   "source": [
    "# Find Exercise"
   ]
  },
  {
   "cell_type": "markdown",
   "id": "6af3d1ce-2db9-4b33-8444-505a7377e90a",
   "metadata": {
    "tags": []
   },
   "source": [
    "#### Please download the following zip file <span style='color:red'> Cases.zip </span>, unzip it, and navigate to the <span style='color:green'> Cases/ </span> directory."
   ]
  },
  {
   "cell_type": "markdown",
   "id": "d941be27-fab2-4fe0-9894-91f05d0ae66b",
   "metadata": {},
   "source": [
    "#### <span style='color:red'> Note: in order for this exercise to work out, please avoid modifying any of the case files!</span>"
   ]
  },
  {
   "cell_type": "code",
   "execution_count": 3,
   "id": "805b0c0e-9d76-469d-87f9-70625b19ed77",
   "metadata": {},
   "outputs": [
    {
     "name": "stdout",
     "output_type": "stream",
     "text": [
      "/Users/vera/Learning/Udemy/TheLinuxCommandLineBootcampColtSteel/Find\n"
     ]
    }
   ],
   "source": [
    "!pwd"
   ]
  },
  {
   "cell_type": "code",
   "execution_count": 4,
   "id": "28641552-c8c2-494c-92fc-3789a5f859c6",
   "metadata": {},
   "outputs": [
    {
     "name": "stdout",
     "output_type": "stream",
     "text": [
      "Archive:  Cases.zip\n",
      "   creating: Cases/\n",
      "  inflating: Cases/case_1001_open.txt  \n",
      "  inflating: Cases/case_1002_closed.txt  \n",
      "  inflating: Cases/case_1003_closed.txt  \n",
      "  inflating: Cases/case_1005_open.txt  \n",
      "  inflating: Cases/case_1006_closed.txt  \n",
      "  inflating: Cases/case_1009_open.txt  \n",
      "  inflating: Cases/case_1012_open.txt  \n",
      "  inflating: Cases/case_1015_closed.txt  \n"
     ]
    }
   ],
   "source": [
    "# Do it once\n",
    "!unzip Cases.zip | head"
   ]
  },
  {
   "cell_type": "code",
   "execution_count": 6,
   "id": "c4b37f4f-7281-44b3-a7bc-4b121a2178da",
   "metadata": {},
   "outputs": [
    {
     "name": "stdout",
     "output_type": "stream",
     "text": [
      "\u001b[36mCases\u001b[m\u001b[m      Cases.zip  Find.ipynb\n"
     ]
    }
   ],
   "source": [
    "!ls"
   ]
  },
  {
   "cell_type": "code",
   "execution_count": 2,
   "id": "1cd9084e-8b62-4b97-b56f-a06f50ed1377",
   "metadata": {},
   "outputs": [
    {
     "name": "stdout",
     "output_type": "stream",
     "text": [
      "/Users/vera/Learning/Udemy/TheLinuxCommandLineBootcampColtSteel/Find/Cases\n"
     ]
    }
   ],
   "source": [
    "%cd Cases/"
   ]
  },
  {
   "cell_type": "markdown",
   "id": "cb7ccb92-4c90-4235-af48-43446d7818f8",
   "metadata": {},
   "source": [
    "## Task"
   ]
  },
  {
   "cell_type": "markdown",
   "id": "8e04df4a-7b43-4a39-b71b-e888827cd16a",
   "metadata": {
    "tags": []
   },
   "source": [
    "#### Welcome detective! The <span style='color:green'> Cases </span> folder contains a couple thousands case files, both open and closed.  Please use the <span style='color:red'> find </span> command to assist you in the following tasks:"
   ]
  },
  {
   "cell_type": "markdown",
   "id": "2549f276-70da-4075-a1fd-718108884c77",
   "metadata": {},
   "source": [
    "#### 1. Using find (and another command), count the number of case files that include \"closed\", in lowercase, in their name. You should find 980 cases."
   ]
  },
  {
   "cell_type": "code",
   "execution_count": 7,
   "id": "aa6ed4ce-95c7-45f8-9e95-0c55ba2b45d4",
   "metadata": {},
   "outputs": [
    {
     "name": "stdout",
     "output_type": "stream",
     "text": [
      "     980\n"
     ]
    }
   ],
   "source": [
    "!find . -name \"*closed*\" | wc -l"
   ]
  },
  {
   "cell_type": "markdown",
   "id": "e255f6aa-726e-4d51-9ab6-06aedbf7a78e",
   "metadata": {},
   "source": [
    "#### 2. Oh no, one of our new detectives labels his cases using \"CLOSED\" in all caps.  Find the 3 cases that have \"CLOSED\" in their name."
   ]
  },
  {
   "cell_type": "code",
   "execution_count": 8,
   "id": "d364cf88-3882-4f7b-8511-565d081fdb15",
   "metadata": {},
   "outputs": [
    {
     "name": "stdout",
     "output_type": "stream",
     "text": [
      "       3\n"
     ]
    }
   ],
   "source": [
    "!find . -name \"*CLOSED*\"| wc -l"
   ]
  },
  {
   "cell_type": "markdown",
   "id": "c6bd5e24-c0eb-407e-b8be-e869fd72a2ca",
   "metadata": {},
   "source": [
    "#### 3. Get a total count of all closed cases that include \"closed\" in their name, uppercase or lowercase.   You should get a count of 983!"
   ]
  },
  {
   "cell_type": "code",
   "execution_count": 9,
   "id": "3a279d33-0721-4ec2-84e0-693456240ac4",
   "metadata": {},
   "outputs": [
    {
     "name": "stdout",
     "output_type": "stream",
     "text": [
      "     983\n"
     ]
    }
   ],
   "source": [
    "!find . -iname \"*closed*\" | wc -l"
   ]
  },
  {
   "cell_type": "markdown",
   "id": "2b306714-b3b4-48a4-ad49-e6fa8194e8ef",
   "metadata": {},
   "source": [
    "#### 4. Get a count for the total number of open cases with odd numbered case numbers (find the open cases that have a 1,3,5,7, or 9 as the last digit in their case number).  You should get 519 cases."
   ]
  },
  {
   "cell_type": "code",
   "execution_count": 11,
   "id": "692b1264-1c6c-40aa-97e4-d0cd683af2f5",
   "metadata": {},
   "outputs": [
    {
     "name": "stdout",
     "output_type": "stream",
     "text": [
      "     519\n"
     ]
    }
   ],
   "source": [
    "!find . -name \"*[13579]_open*\" | wc -l"
   ]
  },
  {
   "cell_type": "markdown",
   "id": "3a38f35c-2ab9-4717-b743-a1559ac0f2a8",
   "metadata": {},
   "source": [
    "#### 5. Find the three empty cases"
   ]
  },
  {
   "cell_type": "code",
   "execution_count": 13,
   "id": "808a796a-833d-4a57-adbc-61923f136d6f",
   "metadata": {},
   "outputs": [
    {
     "name": "stdout",
     "output_type": "stream",
     "text": [
      "./case_2950_open.txt\n",
      "./case_2979_closed.txt\n",
      "./case_2900_open.txt\n"
     ]
    }
   ],
   "source": [
    "!find . -empty"
   ]
  },
  {
   "cell_type": "markdown",
   "id": "50cb5dda-9e57-4a2b-9c37-99458fb90711",
   "metadata": {},
   "source": [
    "#### 6. Most of these files are quite small, but there are 3 pretty large case files.  Find the three files that are larger than 20k in size"
   ]
  },
  {
   "cell_type": "code",
   "execution_count": 21,
   "id": "f7321b4a-bdfc-47aa-b2bf-ab3150632eff",
   "metadata": {},
   "outputs": [
    {
     "name": "stdout",
     "output_type": "stream",
     "text": [
      "./case_1647_open.txt\n",
      "./case_1503_closed.txt\n",
      "./case_1995_open.txt\n"
     ]
    }
   ],
   "source": [
    "!find . -type f -size +20kb"
   ]
  },
  {
   "cell_type": "markdown",
   "id": "fd2c30d5-eef2-4fae-8636-f7504600cd45",
   "metadata": {},
   "source": [
    "#### 7. Find the one case file that is larger than 150k and is closed"
   ]
  },
  {
   "cell_type": "code",
   "execution_count": 49,
   "id": "275a4c8a-ed50-4ae3-9f0a-fca0b7701850",
   "metadata": {},
   "outputs": [
    {
     "name": "stdout",
     "output_type": "stream",
     "text": [
      "./case_1503_closed.txt\n"
     ]
    }
   ],
   "source": [
    "!find . -type f -size +150kb -name \"*closed*\""
   ]
  },
  {
   "cell_type": "markdown",
   "id": "19e8c1d3-52ed-4e9f-bd14-281abbbe4675",
   "metadata": {},
   "source": [
    "#### 8. No one has touched these case files in years, or at least no one should have touched these files, but sadly some corrupt detective recently tampered with one of the files.  Sometime today he changed a single case from \"closed\" to \"open\" to spite an enemy of his.   Find the one case that has been modified more recently than the yesterday.txt file.  Watch the exercise intro video if you're confused!   You may need to read the man pages to find the correct command."
   ]
  },
  {
   "cell_type": "code",
   "execution_count": 54,
   "id": "75ebcab2-c093-404f-a19a-25f8c017aa3a",
   "metadata": {},
   "outputs": [
    {
     "name": "stdout",
     "output_type": "stream",
     "text": [
      "./case_2307_open.txt\n"
     ]
    }
   ],
   "source": [
    "!find . -newer yesterday.txt"
   ]
  }
 ],
 "metadata": {
  "kernelspec": {
   "display_name": "Python 3 (ipykernel)",
   "language": "python",
   "name": "python3"
  },
  "language_info": {
   "codemirror_mode": {
    "name": "ipython",
    "version": 3
   },
   "file_extension": ".py",
   "mimetype": "text/x-python",
   "name": "python",
   "nbconvert_exporter": "python",
   "pygments_lexer": "ipython3",
   "version": "3.9.12"
  }
 },
 "nbformat": 4,
 "nbformat_minor": 5
}
