{
 "cells": [
  {
   "cell_type": "markdown",
   "id": "21dfaadf-3948-4de0-b632-cbe9f3e3733b",
   "metadata": {},
   "source": [
    "# Getting Help Exercise"
   ]
  },
  {
   "cell_type": "markdown",
   "id": "2f633264-f69a-47f6-94cf-6468197906a9",
   "metadata": {},
   "source": [
    "#### 1.1. There is a command called <span style='color:red'> whoami </span>. Before you run it, read the manual page entry on it. From the manual page entry, can you tell if it needs any options or arguments? What does it do?"
   ]
  },
  {
   "cell_type": "code",
   "execution_count": 4,
   "id": "29d0bf26-0060-4778-898e-20ef264cbd3f",
   "metadata": {},
   "outputs": [
    {
     "name": "stdout",
     "output_type": "stream",
     "text": [
      "\n",
      "WHOAMI(1)                 BSD General Commands Manual                WHOAMI(1)\n",
      "\n",
      "NAME\n",
      "     whoami -- display effective user id\n",
      "\n",
      "SYNOPSIS\n",
      "     whoami\n",
      "\n",
      "DESCRIPTION\n",
      "     The whoami utility has been obsoleted by the id(1) utility, and is equiv-\n",
      "     alent to ``id -un''.  The command ``id -p'' is suggested for normal\n",
      "     interactive use.\n",
      "\n",
      "     The whoami utility displays your effective user ID as a name.\n",
      "\n",
      "EXIT STATUS\n",
      "     The whoami utility exits 0 on success, and >0 if an error occurs.\n",
      "\n",
      "SEE ALSO\n",
      "     id(1)\n",
      "\n",
      "BSD                              June 6, 1993                              BSD\n"
     ]
    }
   ],
   "source": [
    "# No, it does not need any option\n",
    "# It displays effective user id\n",
    "\n",
    "!man whoami"
   ]
  },
  {
   "cell_type": "markdown",
   "id": "b8bb9e91-e113-4965-b4ac-01b7bb5359cc",
   "metadata": {},
   "source": [
    "#### 1.2. Now try running it! What happens?"
   ]
  },
  {
   "cell_type": "code",
   "execution_count": 6,
   "id": "983afc33-6335-4a61-a162-ef6d9c90eabf",
   "metadata": {},
   "outputs": [
    {
     "name": "stdout",
     "output_type": "stream",
     "text": [
      "vera\n"
     ]
    }
   ],
   "source": [
    "# It prints out the id\n",
    "!whoami"
   ]
  },
  {
   "cell_type": "markdown",
   "id": "3fae29a6-f13a-4ced-bbdd-e463dd0b9c39",
   "metadata": {},
   "source": [
    "#### 1.3. There is another command called <span style='color:red'>who</span>.  Without turning to Google, figure out what it does! Does it require any arguments or options to run?"
   ]
  },
  {
   "cell_type": "code",
   "execution_count": 7,
   "id": "d7f97590-345d-48a0-80aa-48678e4eccbe",
   "metadata": {},
   "outputs": [
    {
     "name": "stdout",
     "output_type": "stream",
     "text": [
      "\n",
      "WHO(1)                    BSD General Commands Manual                   WHO(1)\n",
      "\n",
      "NAME\n",
      "     who -- display who is logged in\n",
      "\n",
      "SYNOPSIS\n",
      "     who [-abdHlmpqrsTtu] [file]\n",
      "     who am i\n",
      "\n",
      "DESCRIPTION\n",
      "     The who utility displays a list of all users currently logged on, showing\n",
      "     for each user the login name, tty name, the date and time of login, and\n",
      "     hostname if not local.\n",
      "\n",
      "     Available options:\n",
      "\n",
      "     -a    Same as -bdlprTtu.\n",
      "\n",
      "     -b    Time of last system boot.\n",
      "\n",
      "     -d    Print dead processes.\n",
      "\n",
      "     -H    Write column headings above the regular output.\n",
      "\n",
      "     -l    Print system login processes (unsupported).\n",
      "\n",
      "     -m    Only print information about the current terminal.  This is the\n",
      "           POSIX way of saying who am i.\n",
      "\n",
      "     -p    Print active processes spawned by launchd(8) (unsupported).\n",
      "\n",
      "     -q    ``Quick mode'': List only the names and the number of users cur-\n",
      "           rently logged on.  When this option is used, all other options are\n",
      "           ignored.\n",
      "\n",
      "     -r    Print the current runlevel.  This is meaningless on Mac OS X.\n",
      "\n",
      "     -s    List only the name, line and time fields.  This is the default.\n",
      "\n",
      "     -T    Print a character after the user name indicating the state of the\n",
      "           terminal line: `+' if the terminal is writable; `-' if it is not;\n",
      "           and `?' if a bad line is encountered.\n",
      "\n",
      "     -t    Print last system clock change (unsupported).\n",
      "\n",
      "     -u    Print the idle time for each user, and the associated process ID.\n",
      "\n",
      "     am I  Returns the invoker's real user name.\n",
      "\n",
      "     file  By default, who gathers information from the file /var/run/utmpx.\n",
      "           An alternative file may be specified.\n",
      "\n",
      "FILES\n",
      "     /var/run/utmpx\n",
      "\n",
      "SEE ALSO\n",
      "     last(1), mesg(1), users(1), getuid(2), utmpx(5)\n",
      "\n",
      "STANDARDS\n",
      "     The who utility conforms to IEEE Std 1003.1-2001 (``POSIX.1'').\n",
      "\n",
      "HISTORY\n",
      "     A who utility appeared in Version 6 AT&T UNIX.\n",
      "\n",
      "BSD                            January 17, 2007                            BSD\n"
     ]
    }
   ],
   "source": [
    "# It displays who is looged in\n",
    "# All  arguments are optional \n",
    "!man who"
   ]
  },
  {
   "cell_type": "markdown",
   "id": "f73367b8-554b-4cb9-9596-94dec8c8b8a7",
   "metadata": {},
   "source": [
    "#### 1.4. Use the <span style='color:red'> who </span> command to print out the time of the most recent system boot.  You'll need to find an option to help you do this!"
   ]
  },
  {
   "cell_type": "code",
   "execution_count": 8,
   "id": "268b0cf5-11e7-4d53-aa6d-f26c2151e5ad",
   "metadata": {},
   "outputs": [
    {
     "name": "stdout",
     "output_type": "stream",
     "text": [
      "reboot   ~        Jun 29 11:40 \n"
     ]
    }
   ],
   "source": [
    "! who -b"
   ]
  },
  {
   "cell_type": "markdown",
   "id": "88288ace-d0a4-4926-8f76-7d346368ea18",
   "metadata": {},
   "source": [
    "#### 1.5. Run a command to figure out whether the <span style='color:red'>echo</span> command is a a binary, a shell-built in, or an alias.  "
   ]
  },
  {
   "cell_type": "code",
   "execution_count": 13,
   "id": "d04d157a-81c8-443e-b2c0-556bffc15708",
   "metadata": {},
   "outputs": [
    {
     "name": "stdout",
     "output_type": "stream",
     "text": [
      "echo is a shell builtin\n"
     ]
    }
   ],
   "source": [
    "!type echo"
   ]
  },
  {
   "cell_type": "markdown",
   "id": "b0ffc3f0-c7eb-4664-9827-6f15f5fcc7e9",
   "metadata": {},
   "source": [
    "#### 1.6. Do the same for  the date command"
   ]
  },
  {
   "cell_type": "code",
   "execution_count": 14,
   "id": "a057fbd2-b5c9-4bf1-a840-0fe90a078533",
   "metadata": {},
   "outputs": [
    {
     "name": "stdout",
     "output_type": "stream",
     "text": [
      "date is /bin/date\n"
     ]
    }
   ],
   "source": [
    "!type date"
   ]
  }
 ],
 "metadata": {
  "kernelspec": {
   "display_name": "Python 3",
   "language": "python",
   "name": "python3"
  },
  "language_info": {
   "codemirror_mode": {
    "name": "ipython",
    "version": 3
   },
   "file_extension": ".py",
   "mimetype": "text/x-python",
   "name": "python",
   "nbconvert_exporter": "python",
   "pygments_lexer": "ipython3",
   "version": "3.9.12"
  }
 },
 "nbformat": 4,
 "nbformat_minor": 5
}
