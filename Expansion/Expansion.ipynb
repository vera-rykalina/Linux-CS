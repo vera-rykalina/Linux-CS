{
 "cells": [
  {
   "cell_type": "markdown",
   "id": "97a94aec-08f3-4c64-a8cb-18ae111365fd",
   "metadata": {},
   "source": [
    "# Expansion Exercise"
   ]
  },
  {
   "cell_type": "markdown",
   "id": "e3dab6f5-2f93-4b5c-ad78-bd835a1a2c33",
   "metadata": {},
   "source": [
    "## Part 1 - Making Some Files"
   ]
  },
  {
   "cell_type": "code",
   "execution_count": 28,
   "id": "9f1595b2-b79f-4b66-b23c-2647d8907774",
   "metadata": {},
   "outputs": [],
   "source": [
    "!mkdir Part_1.{1..2}"
   ]
  },
  {
   "cell_type": "markdown",
   "id": "4e194666-272b-48f6-b5e7-0686ca59eac4",
   "metadata": {},
   "source": [
    "#### 1.1. Create the following 60 files using a single command with the powers of expansion!"
   ]
  },
  {
   "cell_type": "code",
   "execution_count": 29,
   "id": "7e540a0d-c229-4ae5-81e2-d9516e07c132",
   "metadata": {},
   "outputs": [
    {
     "data": {
      "text/plain": [
       "'\\nmorning-day-1\\nmorning-day-2\\n...\\nmorning-day-30\\n\\n\\nafternoon-day-1\\nafternoon-day-2\\n... \\nafternoon-day-30\\n'"
      ]
     },
     "execution_count": 29,
     "metadata": {},
     "output_type": "execute_result"
    }
   ],
   "source": [
    "'''\n",
    "morning-day-1\n",
    "morning-day-2\n",
    "...\n",
    "morning-day-30\n",
    "\n",
    "\n",
    "afternoon-day-1\n",
    "afternoon-day-2\n",
    "... \n",
    "afternoon-day-30\n",
    "'''"
   ]
  },
  {
   "cell_type": "code",
   "execution_count": 30,
   "id": "7b6316c2-f846-4066-a4a7-ab8c669d34bf",
   "metadata": {},
   "outputs": [
    {
     "name": "stdout",
     "output_type": "stream",
     "text": [
      "Expansion.ipynb \u001b[36mPart_1.1\u001b[m\u001b[m        \u001b[36mPart_1.2\u001b[m\u001b[m\n"
     ]
    }
   ],
   "source": [
    "!ls"
   ]
  },
  {
   "cell_type": "code",
   "execution_count": 31,
   "id": "2eb40b02-7889-4a6e-8d37-db48b052b499",
   "metadata": {},
   "outputs": [
    {
     "name": "stdout",
     "output_type": "stream",
     "text": [
      "/Users/vera/Learning/Udemy/TheLinuxCommandLineBootcampColtSteel/Expansion/Part_1.1\n"
     ]
    }
   ],
   "source": [
    "%cd Part_1.1/"
   ]
  },
  {
   "cell_type": "code",
   "execution_count": 32,
   "id": "13c7fe1c-a9bd-4fa3-8754-e177436e46e4",
   "metadata": {},
   "outputs": [],
   "source": [
    "!touch {morning,afternoon}-day-{1..30}"
   ]
  },
  {
   "cell_type": "code",
   "execution_count": 35,
   "id": "30219a3c-7dd7-4cad-817a-b6f37ce1c3ab",
   "metadata": {},
   "outputs": [
    {
     "name": "stdout",
     "output_type": "stream",
     "text": [
      "afternoon-day-1\n",
      "afternoon-day-2\n",
      "afternoon-day-3\n",
      "afternoon-day-4\n",
      "afternoon-day-5\n",
      "afternoon-day-6\n",
      "afternoon-day-7\n",
      "afternoon-day-8\n",
      "afternoon-day-9\n",
      "afternoon-day-10\n",
      "afternoon-day-11\n",
      "afternoon-day-12\n",
      "afternoon-day-13\n",
      "afternoon-day-14\n",
      "afternoon-day-15\n",
      "afternoon-day-16\n",
      "afternoon-day-17\n",
      "afternoon-day-18\n",
      "afternoon-day-19\n",
      "afternoon-day-20\n",
      "afternoon-day-21\n",
      "afternoon-day-22\n",
      "afternoon-day-23\n",
      "afternoon-day-24\n",
      "afternoon-day-25\n",
      "afternoon-day-26\n",
      "afternoon-day-27\n",
      "afternoon-day-28\n",
      "afternoon-day-29\n",
      "afternoon-day-30\n",
      "morning-day-1\n",
      "morning-day-2\n",
      "morning-day-3\n",
      "morning-day-4\n",
      "morning-day-5\n",
      "morning-day-6\n",
      "morning-day-7\n",
      "morning-day-8\n",
      "morning-day-9\n",
      "morning-day-10\n",
      "morning-day-11\n",
      "morning-day-12\n",
      "morning-day-13\n",
      "morning-day-14\n",
      "morning-day-15\n",
      "morning-day-16\n",
      "morning-day-17\n",
      "morning-day-18\n",
      "morning-day-19\n",
      "morning-day-20\n",
      "morning-day-21\n",
      "morning-day-22\n",
      "morning-day-23\n",
      "morning-day-24\n",
      "morning-day-25\n",
      "morning-day-26\n",
      "morning-day-27\n",
      "morning-day-28\n",
      "morning-day-29\n",
      "morning-day-30\n"
     ]
    }
   ],
   "source": [
    "# -V option makes magic (Sort version numbers)\n",
    "!ls | sort -V"
   ]
  },
  {
   "cell_type": "code",
   "execution_count": 36,
   "id": "0fc10032-e0e6-487e-aa1c-78239f400ab2",
   "metadata": {},
   "outputs": [
    {
     "name": "stdout",
     "output_type": "stream",
     "text": [
      "      60\n"
     ]
    }
   ],
   "source": [
    "!ls | sort -V | wc -l"
   ]
  },
  {
   "cell_type": "markdown",
   "id": "c61ecf4e-dd72-45f2-947a-d51a96dac97e",
   "metadata": {},
   "source": [
    "#### 1.2. For this next bit, you'll need to use the following command: <span style='color:red'>date +\"%m-%d-%y\"</span>. This command will print out the current date using the format *month-day-year*, like 09-19-21. Use this command to create a new file with the name <span style='color:green'>todos-DATE.txt</span>, where *DATE* is the output of the above date command.  For example, if we ran the command on September 19th 2021, the resulting file would be named <span style='color:green'>todos-09-19-21.txt</span>.  "
   ]
  },
  {
   "cell_type": "code",
   "execution_count": 37,
   "id": "f97c58a5-5a74-4be9-b1db-20d6354417ac",
   "metadata": {},
   "outputs": [
    {
     "name": "stdout",
     "output_type": "stream",
     "text": [
      "/Users/vera/Learning/Udemy/TheLinuxCommandLineBootcampColtSteel/Expansion/Part_1.2\n"
     ]
    }
   ],
   "source": [
    "%cd ../Part_1.2/"
   ]
  },
  {
   "cell_type": "code",
   "execution_count": 38,
   "id": "2a95872d-5333-4505-928b-e69f6b14ef92",
   "metadata": {},
   "outputs": [],
   "source": [
    "!touch todos-$(date +\"%m-%d-%y\").txt"
   ]
  },
  {
   "cell_type": "code",
   "execution_count": 2,
   "id": "26ac25fc-71a0-4459-a595-64b06584b47f",
   "metadata": {},
   "outputs": [
    {
     "name": "stdout",
     "output_type": "stream",
     "text": [
      "Expansion.ipynb \u001b[36mPart_1.1\u001b[m\u001b[m        \u001b[36mPart_1.2\u001b[m\u001b[m\n"
     ]
    }
   ],
   "source": [
    "!ls"
   ]
  },
  {
   "cell_type": "markdown",
   "id": "9169d7b6-1d22-444f-a1be-bca7347b99c9",
   "metadata": {},
   "source": [
    "## Part 2"
   ]
  },
  {
   "cell_type": "markdown",
   "id": "cd9ebc32-ee7e-4238-ad04-6fb7db147a93",
   "metadata": {},
   "source": [
    "#### Using the files that we created in the previous section...\n",
    "- List out all the files that end with the number `9`\n",
    "- List out all the filenames where the second to last character is `1`\n",
    "- List out all the files that start with afternoon and then end with the number `7`\n",
    "- Make a new folder called <span style='color:green'>Mornings</span>, and move all the files that start with `morning` inside of it."
   ]
  },
  {
   "cell_type": "code",
   "execution_count": 3,
   "id": "3b2126a4-bc4d-49b7-8c5c-7e8eb6922fd2",
   "metadata": {},
   "outputs": [],
   "source": [
    "!mkdir Part_2"
   ]
  },
  {
   "cell_type": "code",
   "execution_count": 9,
   "id": "b666e252-7174-46b4-aa6f-2d3515234e57",
   "metadata": {},
   "outputs": [
    {
     "name": "stdout",
     "output_type": "stream",
     "text": [
      "/Users/vera/Learning/Udemy/TheLinuxCommandLineBootcampColtSteel/Expansion/Part_2\n"
     ]
    }
   ],
   "source": [
    "%cd ../Part_2"
   ]
  },
  {
   "cell_type": "code",
   "execution_count": 10,
   "id": "85a88a67-4fda-43ca-9de3-d08403388d05",
   "metadata": {},
   "outputs": [
    {
     "name": "stdout",
     "output_type": "stream",
     "text": [
      "../Part_1.1/afternoon-day-19 ../Part_1.1/morning-day-19\n",
      "../Part_1.1/afternoon-day-29 ../Part_1.1/morning-day-29\n",
      "../Part_1.1/afternoon-day-9  ../Part_1.1/morning-day-9\n"
     ]
    }
   ],
   "source": [
    "# List out all the files that end with the number 9\n",
    "!ls ../Part_1.1/*[9]"
   ]
  },
  {
   "cell_type": "code",
   "execution_count": 11,
   "id": "01e8d9ad-bacf-4508-8405-f66a43a73570",
   "metadata": {},
   "outputs": [
    {
     "name": "stdout",
     "output_type": "stream",
     "text": [
      "../Part_1.1/afternoon-day-10 ../Part_1.1/morning-day-10\n",
      "../Part_1.1/afternoon-day-11 ../Part_1.1/morning-day-11\n",
      "../Part_1.1/afternoon-day-12 ../Part_1.1/morning-day-12\n",
      "../Part_1.1/afternoon-day-13 ../Part_1.1/morning-day-13\n",
      "../Part_1.1/afternoon-day-14 ../Part_1.1/morning-day-14\n",
      "../Part_1.1/afternoon-day-15 ../Part_1.1/morning-day-15\n",
      "../Part_1.1/afternoon-day-16 ../Part_1.1/morning-day-16\n",
      "../Part_1.1/afternoon-day-17 ../Part_1.1/morning-day-17\n",
      "../Part_1.1/afternoon-day-18 ../Part_1.1/morning-day-18\n",
      "../Part_1.1/afternoon-day-19 ../Part_1.1/morning-day-19\n"
     ]
    }
   ],
   "source": [
    "# List out all the filenames where the second to last character is 1\n",
    "!ls ../Part_1.1/*[day]*[1]?"
   ]
  },
  {
   "cell_type": "code",
   "execution_count": 13,
   "id": "4ba6c194-389e-4455-adb0-6428dd68d7a6",
   "metadata": {},
   "outputs": [
    {
     "name": "stdout",
     "output_type": "stream",
     "text": [
      "../Part_1.1/afternoon-day-17 ../Part_1.1/afternoon-day-7\n",
      "../Part_1.1/afternoon-day-27\n"
     ]
    }
   ],
   "source": [
    "# List out all the files that start with afternoon and then end with the number 7\n",
    "!ls ../Part_1.1/[afternoon]*[7]"
   ]
  },
  {
   "cell_type": "code",
   "execution_count": 20,
   "id": "9d347a95-1ed3-416c-82ca-4b3124c00458",
   "metadata": {},
   "outputs": [],
   "source": [
    "# Make a new folder called Mornings, and move all the files that start with morning inside of it.\n",
    "!mkdir Mornings/\n",
    "!mv ../Part_1.1/[morning]* Mornings/"
   ]
  },
  {
   "cell_type": "code",
   "execution_count": 22,
   "id": "2c650ab0-18b0-4aef-981f-dcfe04232a9a",
   "metadata": {},
   "outputs": [
    {
     "name": "stdout",
     "output_type": "stream",
     "text": [
      "\u001b[36mMornings\u001b[m\u001b[m\n",
      "\n",
      "./Mornings:\n",
      "morning-day-1  morning-day-15 morning-day-20 morning-day-26 morning-day-4\n",
      "morning-day-10 morning-day-16 morning-day-21 morning-day-27 morning-day-5\n",
      "morning-day-11 morning-day-17 morning-day-22 morning-day-28 morning-day-6\n",
      "morning-day-12 morning-day-18 morning-day-23 morning-day-29 morning-day-7\n",
      "morning-day-13 morning-day-19 morning-day-24 morning-day-3  morning-day-8\n",
      "morning-day-14 morning-day-2  morning-day-25 morning-day-30 morning-day-9\n"
     ]
    }
   ],
   "source": [
    "!ls -R"
   ]
  },
  {
   "cell_type": "markdown",
   "id": "a3cd83be-6dc9-4073-bda2-1cda9af5f7e8",
   "metadata": {},
   "source": [
    "## Part 3"
   ]
  },
  {
   "cell_type": "markdown",
   "id": "3e1ea1f5-24f7-4a24-b8f9-a6ecd4d105ad",
   "metadata": {},
   "source": [
    "#### 3.1. Using a SINGLE command (with expansion), create the following folder structure. You will need to use the `-p` option with <span style='color:red'>mkdir</span>!"
   ]
  },
  {
   "cell_type": "code",
   "execution_count": 23,
   "id": "e9f5afe8-3185-4d44-b826-a85f72889de0",
   "metadata": {},
   "outputs": [
    {
     "data": {
      "text/plain": [
       "'\\nYear/\\n\\tWinter/\\n\\t\\tYard/\\n\\t\\tHouse/\\n\\tSpring/\\n\\t\\tYard/\\n\\t\\tHouse/\\n\\tSummer/\\n\\t\\tYard/\\n\\t\\tHouse/\\n\\tFall/\\n\\t\\tYard/\\n\\t\\tHouse/\\n'"
      ]
     },
     "execution_count": 23,
     "metadata": {},
     "output_type": "execute_result"
    }
   ],
   "source": [
    "'''\n",
    "Year/\n",
    "\tWinter/\n",
    "\t\tYard/\n",
    "\t\tHouse/\n",
    "\tSpring/\n",
    "\t\tYard/\n",
    "\t\tHouse/\n",
    "\tSummer/\n",
    "\t\tYard/\n",
    "\t\tHouse/\n",
    "\tFall/\n",
    "\t\tYard/\n",
    "\t\tHouse/\n",
    "'''"
   ]
  },
  {
   "cell_type": "code",
   "execution_count": 25,
   "id": "562f64dd-0a7d-46b7-bc40-1413c61f876d",
   "metadata": {},
   "outputs": [
    {
     "name": "stdout",
     "output_type": "stream",
     "text": [
      "/Users/vera/Learning/Udemy/TheLinuxCommandLineBootcampColtSteel/Expansion\n"
     ]
    }
   ],
   "source": [
    "%cd .."
   ]
  },
  {
   "cell_type": "code",
   "execution_count": 26,
   "id": "f1098a1c-f44d-4770-b667-17c40ef6e853",
   "metadata": {},
   "outputs": [],
   "source": [
    "!mkdir Part_3"
   ]
  },
  {
   "cell_type": "code",
   "execution_count": 27,
   "id": "2bef6270-8dbb-4548-a04f-9c4b38f29026",
   "metadata": {},
   "outputs": [
    {
     "name": "stdout",
     "output_type": "stream",
     "text": [
      "Expansion.ipynb \u001b[36mPart_1.1\u001b[m\u001b[m        \u001b[36mPart_1.2\u001b[m\u001b[m        \u001b[36mPart_2\u001b[m\u001b[m          \u001b[36mPart_3\u001b[m\u001b[m\n"
     ]
    }
   ],
   "source": [
    "!ls"
   ]
  },
  {
   "cell_type": "code",
   "execution_count": 28,
   "id": "944fbd6f-9e00-4df7-9938-326e5c422caa",
   "metadata": {},
   "outputs": [
    {
     "name": "stdout",
     "output_type": "stream",
     "text": [
      "/Users/vera/Learning/Udemy/TheLinuxCommandLineBootcampColtSteel/Expansion/Part_3\n"
     ]
    }
   ],
   "source": [
    "%cd Part_3"
   ]
  },
  {
   "cell_type": "code",
   "execution_count": 29,
   "id": "4057ef12-1b68-4d97-862a-e768ace640d0",
   "metadata": {},
   "outputs": [],
   "source": [
    "!mkdir -p Year/{Winter,Spring,Summer,Fall}/{Yard,House}"
   ]
  },
  {
   "cell_type": "code",
   "execution_count": 44,
   "id": "cdc2198c-abe1-48de-add4-7ca74b672680",
   "metadata": {},
   "outputs": [
    {
     "name": "stdout",
     "output_type": "stream",
     "text": [
      "\u001b[01;34m.\u001b[0m\n",
      "└── \u001b[01;34mYear\u001b[0m\n",
      "    ├── \u001b[01;34mFall\u001b[0m\n",
      "    │   ├── \u001b[01;34mHouse\u001b[0m\n",
      "    │   └── \u001b[01;34mYard\u001b[0m\n",
      "    ├── \u001b[01;34mSpring\u001b[0m\n",
      "    │   ├── \u001b[01;34mHouse\u001b[0m\n",
      "    │   └── \u001b[01;34mYard\u001b[0m\n",
      "    ├── \u001b[01;34mSummer\u001b[0m\n",
      "    │   ├── \u001b[01;34mHouse\u001b[0m\n",
      "    │   └── \u001b[01;34mYard\u001b[0m\n",
      "    └── \u001b[01;34mWinter\u001b[0m\n",
      "        ├── \u001b[01;34mHouse\u001b[0m\n",
      "        └── \u001b[01;34mYard\u001b[0m\n",
      "\n",
      "13 directories, 0 files\n"
     ]
    }
   ],
   "source": [
    "!tree"
   ]
  },
  {
   "cell_type": "markdown",
   "id": "f76117f0-4688-444f-8bca-73478c2e7adc",
   "metadata": {},
   "source": [
    "#### 3.2. Finally, in each of the <span style='color:green'>Yard</span> and <span style='color:green'>House</span> directories create a <span style='color:green'>todos.txt</span> file and a <span style='color:green'>done.txt</span> file. Do this with a single line, without changing directories!  Use expansion! The resulting folder/file structure should look like this:"
   ]
  },
  {
   "cell_type": "code",
   "execution_count": 24,
   "id": "3b9fd84a-9a3b-4090-8334-8be7abc5e3a6",
   "metadata": {},
   "outputs": [
    {
     "data": {
      "text/plain": [
       "'\\nYear/\\n\\tWinter/\\n\\t\\tYard/\\n\\t\\t\\ttodos.txt\\n\\t\\t\\tdone.txt\\n\\t\\tHouse/\\n\\t\\t\\ttodos.txt\\n\\t\\t\\tdone.txt\\n\\tSpring/\\n\\t\\tYard/\\n\\t\\t\\ttodos.txt\\n\\t\\t\\tdone.txt\\n\\t\\tHouse/\\n\\t\\t\\ttodos.txt\\n\\t\\t\\tdone.txt\\n\\tSummer/\\n\\t\\tYard/\\n\\t\\t\\ttodos.txt\\n\\t\\t\\tdone.txt\\n\\t\\tHouse/\\n\\t\\t\\ttodos.txt\\n\\t\\t\\tdone.txt\\n\\tFall/\\n\\t\\tYard/\\n\\t\\t\\ttodos.txt\\n\\t\\t\\tdone.txt\\n\\t\\tHouse/\\n\\t\\t\\ttodos.txt\\n\\t\\t\\tdone.txt\\n'"
      ]
     },
     "execution_count": 24,
     "metadata": {},
     "output_type": "execute_result"
    }
   ],
   "source": [
    "'''\n",
    "Year/\n",
    "\tWinter/\n",
    "\t\tYard/\n",
    "\t\t\ttodos.txt\n",
    "\t\t\tdone.txt\n",
    "\t\tHouse/\n",
    "\t\t\ttodos.txt\n",
    "\t\t\tdone.txt\n",
    "\tSpring/\n",
    "\t\tYard/\n",
    "\t\t\ttodos.txt\n",
    "\t\t\tdone.txt\n",
    "\t\tHouse/\n",
    "\t\t\ttodos.txt\n",
    "\t\t\tdone.txt\n",
    "\tSummer/\n",
    "\t\tYard/\n",
    "\t\t\ttodos.txt\n",
    "\t\t\tdone.txt\n",
    "\t\tHouse/\n",
    "\t\t\ttodos.txt\n",
    "\t\t\tdone.txt\n",
    "\tFall/\n",
    "\t\tYard/\n",
    "\t\t\ttodos.txt\n",
    "\t\t\tdone.txt\n",
    "\t\tHouse/\n",
    "\t\t\ttodos.txt\n",
    "\t\t\tdone.txt\n",
    "'''"
   ]
  },
  {
   "cell_type": "code",
   "execution_count": 47,
   "id": "8f10a116-28df-4d29-80bd-e6141bc91296",
   "metadata": {},
   "outputs": [],
   "source": [
    "!touch Year/{Winter,Spring,Summer,Fall}/{Yard,House}/{todos,done}.txt"
   ]
  },
  {
   "cell_type": "code",
   "execution_count": 48,
   "id": "f15dda4f-ca4a-4ad2-b903-c9c230a6d77b",
   "metadata": {},
   "outputs": [
    {
     "name": "stdout",
     "output_type": "stream",
     "text": [
      "\u001b[01;34m.\u001b[0m\n",
      "└── \u001b[01;34mYear\u001b[0m\n",
      "    ├── \u001b[01;34mFall\u001b[0m\n",
      "    │   ├── \u001b[01;34mHouse\u001b[0m\n",
      "    │   │   ├── \u001b[00mdone.txt\u001b[0m\n",
      "    │   │   └── \u001b[00mtodos.txt\u001b[0m\n",
      "    │   └── \u001b[01;34mYard\u001b[0m\n",
      "    │       ├── \u001b[00mdone.txt\u001b[0m\n",
      "    │       └── \u001b[00mtodos.txt\u001b[0m\n",
      "    ├── \u001b[01;34mSpring\u001b[0m\n",
      "    │   ├── \u001b[01;34mHouse\u001b[0m\n",
      "    │   │   ├── \u001b[00mdone.txt\u001b[0m\n",
      "    │   │   └── \u001b[00mtodos.txt\u001b[0m\n",
      "    │   └── \u001b[01;34mYard\u001b[0m\n",
      "    │       ├── \u001b[00mdone.txt\u001b[0m\n",
      "    │       └── \u001b[00mtodos.txt\u001b[0m\n",
      "    ├── \u001b[01;34mSummer\u001b[0m\n",
      "    │   ├── \u001b[01;34mHouse\u001b[0m\n",
      "    │   │   ├── \u001b[00mdone.txt\u001b[0m\n",
      "    │   │   └── \u001b[00mtodos.txt\u001b[0m\n",
      "    │   └── \u001b[01;34mYard\u001b[0m\n",
      "    │       ├── \u001b[00mdone.txt\u001b[0m\n",
      "    │       └── \u001b[00mtodos.txt\u001b[0m\n",
      "    └── \u001b[01;34mWinter\u001b[0m\n",
      "        ├── \u001b[01;34mHouse\u001b[0m\n",
      "        │   ├── \u001b[00mdone.txt\u001b[0m\n",
      "        │   └── \u001b[00mtodos.txt\u001b[0m\n",
      "        └── \u001b[01;34mYard\u001b[0m\n",
      "            ├── \u001b[00mdone.txt\u001b[0m\n",
      "            └── \u001b[00mtodos.txt\u001b[0m\n",
      "\n",
      "13 directories, 16 files\n"
     ]
    }
   ],
   "source": [
    "!tree"
   ]
  }
 ],
 "metadata": {
  "kernelspec": {
   "display_name": "Python 3 (ipykernel)",
   "language": "python",
   "name": "python3"
  },
  "language_info": {
   "codemirror_mode": {
    "name": "ipython",
    "version": 3
   },
   "file_extension": ".py",
   "mimetype": "text/x-python",
   "name": "python",
   "nbconvert_exporter": "python",
   "pygments_lexer": "ipython3",
   "version": "3.9.12"
  }
 },
 "nbformat": 4,
 "nbformat_minor": 5
}
