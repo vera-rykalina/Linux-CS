{
 "cells": [
  {
   "cell_type": "markdown",
   "id": "3a3191e8-1582-41e2-aed9-69bab270dc43",
   "metadata": {},
   "source": [
    "# Making Files And Folders Exercise"
   ]
  },
  {
   "cell_type": "markdown",
   "id": "60f3805f-4f35-4578-b77e-4cfcd24db5e8",
   "metadata": {},
   "source": [
    "#### To get some practice creating files and folders from the command-line, we'll be creating a standard React project file structure.  Don't worry at all if you don't know React, we're just making a bunch of empty files and folders!  "
   ]
  },
  {
   "cell_type": "markdown",
   "id": "391fb2d4-b760-442d-a842-7b22be0bec2f",
   "metadata": {},
   "source": [
    "#### Your folder structure should now look like this:"
   ]
  },
  {
   "cell_type": "code",
   "execution_count": 1,
   "id": "89e5c858-71c4-49cb-b8cf-b60fbb605716",
   "metadata": {},
   "outputs": [],
   "source": [
    "#my-app/\n",
    "#  README.md\n",
    "#  package.json\n",
    "#  public/\n",
    "#    index.html\n",
    "#  src/\n",
    "#    App.css\n",
    "#    App.js\n",
    "#    index.css\n",
    "#    index.js"
   ]
  },
  {
   "cell_type": "markdown",
   "id": "e9afb517-2ebf-4ce7-aace-8eedff01d5b7",
   "metadata": {},
   "source": [
    "#### 1.1. Create a new folder called <span style='color:green'> my-app </span>."
   ]
  },
  {
   "cell_type": "code",
   "execution_count": 2,
   "id": "ddce2841-9875-4486-ae1d-04fa6005cff3",
   "metadata": {},
   "outputs": [
    {
     "name": "stdout",
     "output_type": "stream",
     "text": [
      "/Users/vera/Learning/Udemy/TheLinuxCommandLineBootcampColtSteel/MakingFilesFolders\n",
      "MakingFilesFolders.ipynb \u001b[36mmy-app\u001b[m\u001b[m\n"
     ]
    }
   ],
   "source": [
    "!pwd\n",
    "!mkdir my-app\n",
    "!ls"
   ]
  },
  {
   "cell_type": "markdown",
   "id": "5fb5f7d7-1611-41cd-a1d7-5c83bd157c8d",
   "metadata": {},
   "source": [
    "#### 1.2. Navigate to <span style='color:green'> my-app </span> and inside create two new empty files called <span style='color:green'>  README.md  </span> and <span style='color:green'>  package.json  </span>."
   ]
  },
  {
   "cell_type": "code",
   "execution_count": 3,
   "id": "e2fb9df1-8853-4dae-8b84-ff502e2eedb7",
   "metadata": {},
   "outputs": [
    {
     "name": "stdout",
     "output_type": "stream",
     "text": [
      "/Users/vera/Learning/Udemy/TheLinuxCommandLineBootcampColtSteel/MakingFilesFolders/my-app\n"
     ]
    }
   ],
   "source": [
    "%cd my-app"
   ]
  },
  {
   "cell_type": "code",
   "execution_count": 4,
   "id": "7b88aed5-4754-4d78-9a6c-68697f765b85",
   "metadata": {},
   "outputs": [],
   "source": [
    "!touch README.md package.json"
   ]
  },
  {
   "cell_type": "code",
   "execution_count": 5,
   "id": "61afe57c-8891-4af8-8000-07a2925419fb",
   "metadata": {},
   "outputs": [
    {
     "name": "stdout",
     "output_type": "stream",
     "text": [
      "README.md    package.json\n"
     ]
    }
   ],
   "source": [
    "!ls"
   ]
  },
  {
   "cell_type": "markdown",
   "id": "a1e886a4-8642-4652-9f8f-b616b9868499",
   "metadata": {},
   "source": [
    "#### 1.3. Still inside of <span style='color:green'> my-app </span> create a new folder called <span style='color:green'> public </span>. Without <span style='color:red'> cd</span>-ing into <span style='color:green'> public</span>, create an <span style='color:green'> index.html </span> file inside of it."
   ]
  },
  {
   "cell_type": "code",
   "execution_count": 6,
   "id": "4c4fc327-002a-4977-bf21-fcd639e21b96",
   "metadata": {},
   "outputs": [],
   "source": [
    "!mkdir public"
   ]
  },
  {
   "cell_type": "code",
   "execution_count": 7,
   "id": "7f3315f6-90d5-4764-86e4-a0cecb426665",
   "metadata": {},
   "outputs": [],
   "source": [
    "!touch public/index.html"
   ]
  },
  {
   "cell_type": "markdown",
   "id": "176ce565-072f-4627-8b96-a3969758e1ea",
   "metadata": {},
   "source": [
    "#### 1.4. Create a new folder called <span style='color:green'> src </span> inside of <span style='color:green'> my-app </span>.  Navigate inside of it."
   ]
  },
  {
   "cell_type": "code",
   "execution_count": 8,
   "id": "6f8b140c-fc41-4a27-ab7c-f7289f2ef616",
   "metadata": {},
   "outputs": [],
   "source": [
    "!mkdir src"
   ]
  },
  {
   "cell_type": "code",
   "execution_count": 9,
   "id": "f383f08f-974f-4390-ad76-c5e33549e425",
   "metadata": {},
   "outputs": [
    {
     "name": "stdout",
     "output_type": "stream",
     "text": [
      "/Users/vera/Learning/Udemy/TheLinuxCommandLineBootcampColtSteel/MakingFilesFolders/my-app/src\n"
     ]
    }
   ],
   "source": [
    "%cd src"
   ]
  },
  {
   "cell_type": "markdown",
   "id": "2ebc8311-40d3-40db-ae8a-2fe287ff5171",
   "metadata": {},
   "source": [
    "#### 1.5. Using a single line, create the following four files inside of <span style='color:green'> src</span>: <span style='color:green'> App.css </span>,<span style='color:green'> App.js </span>,<span style='color:green'> index.css </span>, and <span style='color:green'> index.js </span>."
   ]
  },
  {
   "cell_type": "code",
   "execution_count": 10,
   "id": "c93c5443-504e-4660-8803-9ea928168eaf",
   "metadata": {},
   "outputs": [],
   "source": [
    "!touch App.css App.js index.css index.js"
   ]
  },
  {
   "cell_type": "code",
   "execution_count": 11,
   "id": "ac44f794-2479-43fa-a0ca-c0fe802fe05e",
   "metadata": {},
   "outputs": [
    {
     "name": "stdout",
     "output_type": "stream",
     "text": [
      "App.css   App.js    index.css index.js\n"
     ]
    }
   ],
   "source": [
    "!ls"
   ]
  },
  {
   "cell_type": "code",
   "execution_count": 12,
   "id": "56a1da75-408c-4315-afb5-43b4be6630d4",
   "metadata": {},
   "outputs": [
    {
     "name": "stdout",
     "output_type": "stream",
     "text": [
      "/Users/vera/Learning/Udemy/TheLinuxCommandLineBootcampColtSteel/MakingFilesFolders\n",
      "\u001b[01;34m.\u001b[0m\n",
      "├── \u001b[00mMakingFilesFolders.ipynb\u001b[0m\n",
      "└── \u001b[01;34mmy-app\u001b[0m\n",
      "    ├── \u001b[00mREADME.md\u001b[0m\n",
      "    ├── \u001b[00mpackage.json\u001b[0m\n",
      "    ├── \u001b[01;34mpublic\u001b[0m\n",
      "    │   └── \u001b[00mindex.html\u001b[0m\n",
      "    └── \u001b[01;34msrc\u001b[0m\n",
      "        ├── \u001b[00mApp.css\u001b[0m\n",
      "        ├── \u001b[00mApp.js\u001b[0m\n",
      "        ├── \u001b[00mindex.css\u001b[0m\n",
      "        └── \u001b[00mindex.js\u001b[0m\n",
      "\n",
      "3 directories, 8 files\n"
     ]
    }
   ],
   "source": [
    "%cd ../..\n",
    "!tree"
   ]
  },
  {
   "cell_type": "markdown",
   "id": "7c78a22e-c531-48e3-976d-bbc428b63234",
   "metadata": {},
   "source": [
    "# BONUS"
   ]
  },
  {
   "cell_type": "markdown",
   "id": "7622107d-ade3-48b6-9fb7-fa497c66b435",
   "metadata": {},
   "source": [
    "#### Using a single command, create a new directory inside of <span style='color:green'> src </span> called <span style='color:green'> components </span>, and inside of that new components directory create a new directory called <span style='color:green'> Navbar </span>. Do this using a single command, without first creating the <span style='color:green'> components </span> directory."
   ]
  },
  {
   "cell_type": "markdown",
   "id": "75ae3835-d8a8-4564-90d4-27d05e7152fa",
   "metadata": {},
   "source": [
    "#### Your folder structure would now look like this:"
   ]
  },
  {
   "cell_type": "code",
   "execution_count": 29,
   "id": "1801f93d-4bbe-4aee-99cc-106688672758",
   "metadata": {},
   "outputs": [],
   "source": [
    "#my-app/\n",
    "#  README.md\n",
    "#  package.json\n",
    "#  public/\n",
    "#    index.html\n",
    "#  src/\n",
    "#\t components/\n",
    "#\t\t Navbar/\n",
    "#    App.css\n",
    "#    App.js\n",
    "#    index.css\n",
    "#    index.js"
   ]
  },
  {
   "cell_type": "code",
   "execution_count": 21,
   "id": "3d9cd359-ea97-4f79-9096-f76e9f6d1b1e",
   "metadata": {},
   "outputs": [
    {
     "name": "stdout",
     "output_type": "stream",
     "text": [
      "/Users/vera/Learning/Udemy/TheLinuxCommandLineBootcampColtSteel/MakingFilesFolders/my-app/src\n",
      "App.css   App.js    index.css index.js\n"
     ]
    }
   ],
   "source": [
    "%cd my-app/src/\n",
    "!ls"
   ]
  },
  {
   "cell_type": "code",
   "execution_count": 24,
   "id": "78a63ad0-736f-4b13-bfbc-ae86af2f9820",
   "metadata": {},
   "outputs": [],
   "source": [
    "!mkdir -p components/Navbar/"
   ]
  },
  {
   "cell_type": "code",
   "execution_count": 27,
   "id": "3cd18d46-efe4-44ef-986a-a6a665081616",
   "metadata": {},
   "outputs": [
    {
     "name": "stdout",
     "output_type": "stream",
     "text": [
      "/Users/vera/Learning/Udemy/TheLinuxCommandLineBootcampColtSteel/MakingFilesFolders\n"
     ]
    }
   ],
   "source": [
    "%cd ../.."
   ]
  },
  {
   "cell_type": "code",
   "execution_count": 28,
   "id": "1c8072fc-a66b-4c27-bfbc-0380216767d3",
   "metadata": {},
   "outputs": [
    {
     "name": "stdout",
     "output_type": "stream",
     "text": [
      "\u001b[01;34m.\u001b[0m\n",
      "├── \u001b[00mMakingFilesFolders.ipynb\u001b[0m\n",
      "└── \u001b[01;34mmy-app\u001b[0m\n",
      "    ├── \u001b[00mREADME.md\u001b[0m\n",
      "    ├── \u001b[00mpackage.json\u001b[0m\n",
      "    ├── \u001b[01;34mpublic\u001b[0m\n",
      "    │   └── \u001b[00mindex.html\u001b[0m\n",
      "    └── \u001b[01;34msrc\u001b[0m\n",
      "        ├── \u001b[00mApp.css\u001b[0m\n",
      "        ├── \u001b[00mApp.js\u001b[0m\n",
      "        ├── \u001b[01;34mcomponents\u001b[0m\n",
      "        │   └── \u001b[01;34mNavbar\u001b[0m\n",
      "        ├── \u001b[00mindex.css\u001b[0m\n",
      "        └── \u001b[00mindex.js\u001b[0m\n",
      "\n",
      "5 directories, 8 files\n"
     ]
    }
   ],
   "source": [
    "!tree"
   ]
  },
  {
   "cell_type": "code",
   "execution_count": 30,
   "id": "7828dc03-5e8d-492b-9d7b-91dd91e9de68",
   "metadata": {},
   "outputs": [
    {
     "name": "stdout",
     "output_type": "stream",
     "text": [
      "/Users/vera/Learning/Udemy/TheLinuxCommandLineBootcampColtSteel/MakingFilesFolders\n"
     ]
    }
   ],
   "source": [
    "!pwd"
   ]
  },
  {
   "cell_type": "code",
   "execution_count": 31,
   "id": "e81ac9b8-54ff-4c68-8850-089bcdacc99b",
   "metadata": {},
   "outputs": [],
   "source": [
    "rm -r my-app"
   ]
  }
 ],
 "metadata": {
  "kernelspec": {
   "display_name": "Python 3",
   "language": "python",
   "name": "python3"
  },
  "language_info": {
   "codemirror_mode": {
    "name": "ipython",
    "version": 3
   },
   "file_extension": ".py",
   "mimetype": "text/x-python",
   "name": "python",
   "nbconvert_exporter": "python",
   "pygments_lexer": "ipython3",
   "version": "3.9.12"
  }
 },
 "nbformat": 4,
 "nbformat_minor": 5
}
