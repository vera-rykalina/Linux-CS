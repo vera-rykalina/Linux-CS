{
 "cells": [
  {
   "cell_type": "markdown",
   "id": "9fb95cc7-c1f6-4a66-b317-bb31b055571e",
   "metadata": {},
   "source": [
    "# Nano Exercise"
   ]
  },
  {
   "cell_type": "markdown",
   "id": "f7a06409-89bc-48eb-8fb7-fbd64e16bdd9",
   "metadata": {},
   "source": [
    "#### <span style='color:green'>NanoExercise.zip</span>\n",
    "#### Download the above zip file.  Unzip it and then navigate to the resulting directory using the command line."
   ]
  },
  {
   "cell_type": "code",
   "execution_count": 1,
   "id": "065ce7b3-6067-4762-8e99-2ec491680055",
   "metadata": {},
   "outputs": [
    {
     "name": "stdout",
     "output_type": "stream",
     "text": [
      "Archive:  NanoExercise.zip\n",
      "   creating: NanoExercise/\n",
      "  inflating: NanoExercise/recipe.txt  \n",
      "  inflating: NanoExercise/review.txt  \n",
      "  inflating: NanoExercise/website.html  \n",
      "  inflating: NanoExercise/country-data.json  \n"
     ]
    }
   ],
   "source": [
    "!unzip NanoExercise.zip"
   ]
  },
  {
   "cell_type": "code",
   "execution_count": 2,
   "id": "847c76a5-d1aa-4dda-94da-8c5d652ed798",
   "metadata": {},
   "outputs": [
    {
     "name": "stdout",
     "output_type": "stream",
     "text": [
      "/Users/vera/Learning/Udemy/TheLinuxCommandLineBootcampColtSteel/Nano/NanoExercise\n"
     ]
    }
   ],
   "source": [
    "%cd NanoExercise/"
   ]
  },
  {
   "cell_type": "code",
   "execution_count": 3,
   "id": "1ed0f7af-5f2d-4ef5-8594-6124c1433a9d",
   "metadata": {},
   "outputs": [
    {
     "name": "stdout",
     "output_type": "stream",
     "text": [
      "\u001b[01;34m.\u001b[0m\n",
      "├── \u001b[00mcountry-data.json\u001b[0m\n",
      "├── \u001b[00mrecipe.txt\u001b[0m\n",
      "├── \u001b[00mreview.txt\u001b[0m\n",
      "└── \u001b[00mwebsite.html\u001b[0m\n",
      "\n",
      "0 directories, 4 files\n"
     ]
    }
   ],
   "source": [
    "!tree"
   ]
  },
  {
   "cell_type": "markdown",
   "id": "8586d218-99c2-4e3b-9d9e-11e0a77a2f49",
   "metadata": {},
   "source": [
    "NB (!) Exercises below cannot be done using a Jupyter Notebook as nano command does not work within Jupyter. For these exercises I used terminal."
   ]
  },
  {
   "cell_type": "markdown",
   "id": "b2f9c2ee-78da-413d-8031-11950c278844",
   "metadata": {},
   "source": [
    "## Part 1 "
   ]
  },
  {
   "cell_type": "markdown",
   "id": "a1dca42d-ee17-4084-a797-71b8450240a7",
   "metadata": {},
   "source": [
    "#### 1.1. Open up the <span style='color:green'>recipe.txt</span> file using <span style='color:red'>Nano</span>."
   ]
  },
  {
   "cell_type": "markdown",
   "id": "8c83c9f7-55b3-414f-911d-48963b35666e",
   "metadata": {},
   "source": [
    "#### 1.2. On line 3, add your own name after **Author:** so that it says **Author: Stevie Wonder** or whatever your name is."
   ]
  },
  {
   "cell_type": "markdown",
   "id": "0a4818fb-7d4a-4c78-b23f-27dcbabe6a8e",
   "metadata": {},
   "source": [
    "#### 1.3. Whoever wrote this recipe didn't know how to spell \"parmesan\", so instead they wrote \"parm\".  Please update the two instances of \"Parm\" to \"Parmesan\".  You can do this manually or by using nano's replace feature."
   ]
  },
  {
   "cell_type": "markdown",
   "id": "25fe966d-5b88-430c-ba24-49d204195049",
   "metadata": {},
   "source": [
    "#### 1.4. Write out your changes! Close the file."
   ]
  },
  {
   "cell_type": "markdown",
   "id": "200bf618-94e3-482d-8996-0100ebf074a7",
   "metadata": {},
   "source": [
    "## Part 2"
   ]
  },
  {
   "cell_type": "markdown",
   "id": "049b3f2a-dc9c-425f-9064-7d2e115fde66",
   "metadata": {},
   "source": [
    "#### 2.1. Open up the <span style='color:green'>website.html</span> file using <span style='color:red'>Nano</span>."
   ]
  },
  {
   "cell_type": "markdown",
   "id": "6dfabacd-1fba-4cb3-a767-de099fb57889",
   "metadata": {},
   "source": [
    "#### 2.2. This html file contains a simple website for a fictional restaurant called \"Ristorante Colt\".  You recently purchased the restaurant and have decided to change its name! Please replace all instance of \"Ristorante Colt\" with your new restaurant's name.  Do this using a nano shortcut, rather than manually replacing each one."
   ]
  },
  {
   "cell_type": "markdown",
   "id": "2a26cd27-4946-43d1-acf7-05240b3681ad",
   "metadata": {},
   "source": [
    "#### 2.3. Save your changes and close the file!"
   ]
  },
  {
   "cell_type": "markdown",
   "id": "5ca22e0c-7de0-4883-837f-06b997cfc0b2",
   "metadata": {},
   "source": [
    "## Part 3"
   ]
  },
  {
   "cell_type": "markdown",
   "id": "77019197-e6f0-4ee1-bd87-84c05b65d85c",
   "metadata": {},
   "source": [
    "#### 3.1. The <span style='color:green'>country-data.json</span> file contains a large country dataset, with over 39,000 lines of json!"
   ]
  },
  {
   "cell_type": "markdown",
   "id": "9410db9a-8656-4f23-9188-7aa5f98e1966",
   "metadata": {},
   "source": [
    "#### 3.2. Unfortunately, there is a typo on line **15399**.  It says \"Hondras\" but it should say \"Honduras\".  Please fix this!  Rather than scrolling for a decade, use a nano shortcut to jump to line **15399**."
   ]
  },
  {
   "cell_type": "markdown",
   "id": "b6e13f2e-b970-4911-8eeb-328d6cefc9f9",
   "metadata": {},
   "source": [
    "#### 3.3. **Bonus**: Figure out how to tell <span style='color:red'>Nano</span> to open the file at exactly **15399**."
   ]
  },
  {
   "cell_type": "code",
   "execution_count": 7,
   "id": "37a0f3f9-ba38-4134-a397-14c035f14c2d",
   "metadata": {},
   "outputs": [],
   "source": [
    "# nano +15399 country-data.json"
   ]
  },
  {
   "cell_type": "markdown",
   "id": "4eaf2717-2623-411e-b7d2-ab3ac7dff5af",
   "metadata": {},
   "source": [
    "## Bonus"
   ]
  },
  {
   "cell_type": "markdown",
   "id": "5efc9e2f-825f-4fc2-bb79-aa4ef5351495",
   "metadata": {},
   "source": [
    "#### 1. The <span style='color:green'>review.txt</span> file contains a text review of the Cacio E Pepe recipe from <span style='color:green'>recipe.txt</span>."
   ]
  },
  {
   "cell_type": "markdown",
   "id": "3c7995cd-0c9d-4ef6-9991-cc3db1a6684a",
   "metadata": {},
   "source": [
    "#### 2. Open up the <span style='color:green'>recipe.txt</span> file using <span style='color:red'>nano</span> and scroll to the bottom. "
   ]
  },
  {
   "cell_type": "markdown",
   "id": "2c8f20dd-87e7-45a1-bb8e-1813d10c7d80",
   "metadata": {},
   "source": [
    "#### 3. Using a <span style='color:red'>nano</span> shortcut we have not covered, insert the contents of <span style='color:green'>review.txt</span> at the bottom of <span style='color:green'>recipe.txt</span>.  "
   ]
  },
  {
   "cell_type": "code",
   "execution_count": 8,
   "id": "f6c860fc-0ddc-4a1e-bfae-7f503d2c6046",
   "metadata": {},
   "outputs": [],
   "source": [
    "# type ^R and then a name of the file to insert (review.txt in this case)"
   ]
  }
 ],
 "metadata": {
  "kernelspec": {
   "display_name": "Python 3",
   "language": "python",
   "name": "python3"
  },
  "language_info": {
   "codemirror_mode": {
    "name": "ipython",
    "version": 3
   },
   "file_extension": ".py",
   "mimetype": "text/x-python",
   "name": "python",
   "nbconvert_exporter": "python",
   "pygments_lexer": "ipython3",
   "version": "3.9.12"
  }
 },
 "nbformat": 4,
 "nbformat_minor": 5
}
