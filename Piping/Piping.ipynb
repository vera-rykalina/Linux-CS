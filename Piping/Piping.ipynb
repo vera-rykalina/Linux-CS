{
 "cells": [
  {
   "cell_type": "markdown",
   "id": "f514791d-6761-4c55-9ae2-f1b644af67ee",
   "metadata": {},
   "source": [
    "# Piping Exercise"
   ]
  },
  {
   "cell_type": "markdown",
   "id": "c75062ef-0a03-4879-8082-92ea5da8fccc",
   "metadata": {
    "tags": []
   },
   "source": [
    "#### Download the starter files here: \n",
    "#### <span style='color:green'>PokemonExercise.zip</span>\n",
    "#### Unzip the file. The resulting folder contains a subfolder called <span style='color:green'>PokeDex/</span> which in turn contains a whole bunch of files, each named for a specific Pokemon like:"
   ]
  },
  {
   "cell_type": "code",
   "execution_count": 1,
   "id": "a4fece77-1b03-48f9-8003-51e2fcf69deb",
   "metadata": {},
   "outputs": [
    {
     "data": {
      "text/plain": [
       "'\\nPokemonExercise/\\n\\tPokeDex/\\n\\t\\t100Voltorb\\n\\t\\t101Electrode\\n\\t\\t619Mienfoo\\n...\\n'"
      ]
     },
     "execution_count": 1,
     "metadata": {},
     "output_type": "execute_result"
    }
   ],
   "source": [
    "'''\n",
    "PokemonExercise/\n",
    "\tPokeDex/\n",
    "\t\t100Voltorb\n",
    "\t\t101Electrode\n",
    "\t\t619Mienfoo\n",
    "...\n",
    "'''"
   ]
  },
  {
   "cell_type": "code",
   "execution_count": 2,
   "id": "f09618eb-2eb1-4fdc-a33b-885feed8d8e0",
   "metadata": {},
   "outputs": [
    {
     "name": "stdout",
     "output_type": "stream",
     "text": [
      "/Users/vera/Learning/Udemy/TheLinuxCommandLineBootcampColtSteel/Piping\n"
     ]
    }
   ],
   "source": [
    "!pwd"
   ]
  },
  {
   "cell_type": "code",
   "execution_count": 4,
   "id": "95bf4bf5-546a-4a28-b713-77c115bce8dd",
   "metadata": {},
   "outputs": [
    {
     "name": "stdout",
     "output_type": "stream",
     "text": [
      "Piping.ipynb        \u001b[36mPokemonExercise\u001b[m\u001b[m     PokemonExercise.zip\n"
     ]
    }
   ],
   "source": [
    "!ls"
   ]
  },
  {
   "cell_type": "code",
   "execution_count": 60,
   "id": "b4724135-1e2a-49d6-83ca-eabb7d735463",
   "metadata": {},
   "outputs": [
    {
     "name": "stdout",
     "output_type": "stream",
     "text": [
      "Archive:  PokemonExercise.zip\n",
      "   creating: PokemonExercise/\n",
      "   creating: PokemonExercise/PokeDex/\n",
      "  inflating: PokemonExercise/PokeDex/1Bulbasaur  \n",
      "  inflating: PokemonExercise/PokeDex/2Ivysaur  \n",
      "  inflating: PokemonExercise/PokeDex/3Venusaur  \n",
      "  inflating: PokemonExercise/PokeDex/4Charmander  \n",
      "  inflating: PokemonExercise/PokeDex/5Charmeleon  \n",
      "  inflating: PokemonExercise/PokeDex/6Charizard  \n",
      "  inflating: PokemonExercise/PokeDex/7Squirtle  \n"
     ]
    }
   ],
   "source": [
    "# Do it once\n",
    "!unzip PokemonExercise.zip | head"
   ]
  },
  {
   "cell_type": "markdown",
   "id": "b393a08d-1396-43c4-aafe-d1f3088d41e8",
   "metadata": {},
   "source": [
    "## Task"
   ]
  },
  {
   "cell_type": "markdown",
   "id": "ac7d432a-50f6-4985-b537-bb46bd978436",
   "metadata": {},
   "source": [
    "#### Complete the following challenges using the starter files.  Make sure that you navigate to the <span style='color:green'>PokemoneExercise/</span> directory, but do NOT run any of the following commands from inside the <span style='color:green'>PokeDex</span> folder.  I repeat: any files that you create for the exercise should live inside of <span style='color:green'>PokemoneExercise/</span> NOT <span style='color:green'>PokeDex/</span>."
   ]
  },
  {
   "cell_type": "code",
   "execution_count": 5,
   "id": "fd0916a5-66ba-495f-9db6-3521f349cdfa",
   "metadata": {},
   "outputs": [
    {
     "name": "stdout",
     "output_type": "stream",
     "text": [
      "/Users/vera/Learning/Udemy/TheLinuxCommandLineBootcampColtSteel/Piping/PokemonExercise\n"
     ]
    }
   ],
   "source": [
    "%cd PokemonExercise/"
   ]
  },
  {
   "cell_type": "markdown",
   "id": "c2bf66be-3d90-4d8f-b0de-aadb6e732520",
   "metadata": {},
   "source": [
    "#### 1. Count the number of Pokemon files in the <span style='color:green'>PokeDex/</span> folder.  You'll need to combine commands to make this work!"
   ]
  },
  {
   "cell_type": "code",
   "execution_count": 6,
   "id": "a4fb43af-baa7-4469-9a5b-4badefaf47bb",
   "metadata": {},
   "outputs": [
    {
     "name": "stdout",
     "output_type": "stream",
     "text": [
      "     719\n"
     ]
    }
   ],
   "source": [
    "!ls PokeDex/ | wc -l"
   ]
  },
  {
   "cell_type": "markdown",
   "id": "eff50d24-f550-4df1-a19a-1b2164d8e0ae",
   "metadata": {},
   "source": [
    "#### 2. Next, create a new single file called <span style='color:green'>all-pokemon.txt</span> in the <span style='color:green'>PokemonExercise</span> (NOT the <span style='color:green'>PokemonDex</span> folder) that contains the LOWERCASED name of every single Pokemon file in the directory, sorted in numerical order! The end result should look like this: "
   ]
  },
  {
   "cell_type": "code",
   "execution_count": 7,
   "id": "83b8aee1-eb0d-426e-b0c6-4f6c3ccbed8b",
   "metadata": {},
   "outputs": [
    {
     "data": {
      "text/plain": [
       "'\\n1bulbasaur\\n2ivysaur\\n3venusaur\\n4charmander\\n5charmeleon\\n6charizard\\n7squirtle\\n8wartortle\\n9blastoise\\n10caterpie\\n11metapod\\n12butterfree\\n...\\n'"
      ]
     },
     "execution_count": 7,
     "metadata": {},
     "output_type": "execute_result"
    }
   ],
   "source": [
    "'''\n",
    "1bulbasaur\n",
    "2ivysaur\n",
    "3venusaur\n",
    "4charmander\n",
    "5charmeleon\n",
    "6charizard\n",
    "7squirtle\n",
    "8wartortle\n",
    "9blastoise\n",
    "10caterpie\n",
    "11metapod\n",
    "12butterfree\n",
    "...\n",
    "'''"
   ]
  },
  {
   "cell_type": "code",
   "execution_count": 8,
   "id": "0c26fda3-af01-450d-a82c-becc54c617fc",
   "metadata": {},
   "outputs": [],
   "source": [
    "!ls PokeDex/ | sort -n | tr A-Z a-z > all-pokemon.txt"
   ]
  },
  {
   "cell_type": "markdown",
   "id": "715c9e2c-5d7a-42b0-98e1-c04515c7a9f3",
   "metadata": {},
   "source": [
    "#### 3. Now that we have this file that includes all the Pokemon in numerical order, let's print out the three pigeon-related Pokemon: pidgey, pidgeotto, and pidgeot.  Using the command-line, print out lines 16-18.  It should look like this:"
   ]
  },
  {
   "cell_type": "code",
   "execution_count": 9,
   "id": "fefc7681-64b0-49db-80ce-1e1114d74edb",
   "metadata": {},
   "outputs": [
    {
     "data": {
      "text/plain": [
       "'\\n16pidgey\\n17pidgeotto\\n18pidgeot\\n'"
      ]
     },
     "execution_count": 9,
     "metadata": {},
     "output_type": "execute_result"
    }
   ],
   "source": [
    "'''\n",
    "16pidgey\n",
    "17pidgeotto\n",
    "18pidgeot\n",
    "'''"
   ]
  },
  {
   "cell_type": "code",
   "execution_count": 12,
   "id": "0d51dd95-91d6-4eb7-a2c7-1972d9009bda",
   "metadata": {},
   "outputs": [
    {
     "name": "stdout",
     "output_type": "stream",
     "text": [
      "16pidgey\n",
      "17pidgeotto\n",
      "18pidgeot\n"
     ]
    }
   ],
   "source": [
    "cat all-pokemon.txt | head -18 | tail -3"
   ]
  },
  {
   "cell_type": "markdown",
   "id": "9e28ef06-c9d8-4b13-a65f-17154f03601c",
   "metadata": {},
   "source": [
    "#### 4. Next, let's isolate the original 151 Pokemon.  Using a single pipeline..."
   ]
  },
  {
   "cell_type": "markdown",
   "id": "0989e83a-1d06-4a63-8a37-4c221f669386",
   "metadata": {},
   "source": [
    "- output the first 151 lines of the <span style='color:green'>all-pokemon.txt</span> file\n",
    "- remove all digits 0-9 from the lines (using <span style='color:red'>tr</span> )\n",
    "- sort the now number-less lines alphabetically\n",
    "- store the new result in a file called <span style='color:green'>original-151.txt</span> in <span style='color:green'>PokemonExercise</span> folder"
   ]
  },
  {
   "cell_type": "code",
   "execution_count": 18,
   "id": "d84937b8-7402-41ef-8108-8097660e01a2",
   "metadata": {},
   "outputs": [
    {
     "data": {
      "text/plain": [
       "'\\nabra\\naerodactyl\\nalakazam\\n...\\nwigglytuff\\nzapdos\\nzubat\\n'"
      ]
     },
     "execution_count": 18,
     "metadata": {},
     "output_type": "execute_result"
    }
   ],
   "source": [
    "'''\n",
    "abra\n",
    "aerodactyl\n",
    "alakazam\n",
    "...\n",
    "wigglytuff\n",
    "zapdos\n",
    "zubat\n",
    "'''"
   ]
  },
  {
   "cell_type": "code",
   "execution_count": 24,
   "id": "644342f5-c85c-4471-99b5-29ac0a979733",
   "metadata": {},
   "outputs": [],
   "source": [
    "!cat all-pokemon.txt | head -151 | tr -d [:digit:] | sort > original-151.txt"
   ]
  },
  {
   "cell_type": "code",
   "execution_count": 25,
   "id": "cc383134-e197-45f6-90da-00aa63523361",
   "metadata": {},
   "outputs": [
    {
     "name": "stdout",
     "output_type": "stream",
     "text": [
      "abra\n",
      "aerodactyl\n",
      "alakazam\n"
     ]
    }
   ],
   "source": [
    "!head -3 original-151.txt"
   ]
  },
  {
   "cell_type": "code",
   "execution_count": 26,
   "id": "eb0b5167-fa17-4b37-8918-66073259323f",
   "metadata": {},
   "outputs": [
    {
     "name": "stdout",
     "output_type": "stream",
     "text": [
      "wigglytuff\n",
      "zapdos\n",
      "zubat\n"
     ]
    }
   ],
   "source": [
    "!tail -3 original-151.txt"
   ]
  }
 ],
 "metadata": {
  "kernelspec": {
   "display_name": "Python 3 (ipykernel)",
   "language": "python",
   "name": "python3"
  },
  "language_info": {
   "codemirror_mode": {
    "name": "ipython",
    "version": 3
   },
   "file_extension": ".py",
   "mimetype": "text/x-python",
   "name": "python",
   "nbconvert_exporter": "python",
   "pygments_lexer": "ipython3",
   "version": "3.9.12"
  }
 },
 "nbformat": 4,
 "nbformat_minor": 5
}
