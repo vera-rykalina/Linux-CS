{
 "cells": [
  {
   "cell_type": "markdown",
   "id": "51da39a9-8bd1-414b-9b34-7f9a9d46f7ff",
   "metadata": {},
   "source": [
    "# Navigation Exercise"
   ]
  },
  {
   "cell_type": "markdown",
   "id": "fc7a4f7f-cbde-4b6d-8883-f835f33ef42f",
   "metadata": {},
   "source": [
    "## Part 1 "
   ]
  },
  {
   "cell_type": "markdown",
   "id": "fc403ff4-fc0f-459f-96fe-62190ebb8870",
   "metadata": {},
   "source": [
    "#### <span style='color:green'>Farm.zip</span>\n",
    "#### 1.1. Download the above file, unzip it, and drag the resulting <span style='color:green'>Farm</span> folder to your Desktop. The <span style='color:green'>Farm</span> folder contains the following subdirectories:"
   ]
  },
  {
   "cell_type": "code",
   "execution_count": 1,
   "id": "59a2e0f7-629c-438e-913b-202c9638cc21",
   "metadata": {},
   "outputs": [],
   "source": [
    "#Farm/\n",
    "#\tCoop/ \n",
    "#\t\tChickens/\n",
    "#\t\tGeese/\n",
    "#\tStable/\n",
    "#\t\tHorses/"
   ]
  },
  {
   "cell_type": "code",
   "execution_count": 4,
   "id": "234c03a2-7a52-4027-b060-475f4a6e6641",
   "metadata": {},
   "outputs": [
    {
     "name": "stdout",
     "output_type": "stream",
     "text": [
      "/Users/vera/Learning/Udemy/TheLinuxCommandLineBootcampColtSteel/Navigation\n"
     ]
    }
   ],
   "source": [
    "!pwd"
   ]
  },
  {
   "cell_type": "code",
   "execution_count": 5,
   "id": "35075de6-4557-475f-a668-813b212b08c6",
   "metadata": {},
   "outputs": [
    {
     "name": "stdout",
     "output_type": "stream",
     "text": [
      "Farm.zip         Navigation.ipynb\n"
     ]
    }
   ],
   "source": [
    "!ls"
   ]
  },
  {
   "cell_type": "code",
   "execution_count": 6,
   "id": "c9d6d6fe-c3c2-4fc1-99d5-72fb2898c9fe",
   "metadata": {},
   "outputs": [
    {
     "name": "stdout",
     "output_type": "stream",
     "text": [
      "Archive:  Farm.zip\n",
      "   creating: Farm/\n",
      "   creating: Farm/Stable/\n",
      "   creating: Farm/Coop/\n",
      "   creating: Farm/Stable/Horses/\n",
      "  inflating: Farm/Coop/.DS_Store     \n",
      "  inflating: __MACOSX/Farm/Coop/._.DS_Store  \n",
      "   creating: Farm/Coop/Chickens/\n",
      "   creating: Farm/Coop/Geese/\n",
      "  inflating: Farm/Stable/Horses/Archer  \n",
      "  inflating: Farm/Stable/Horses/Buttons  \n",
      "  inflating: Farm/Stable/Horses/.Troy  \n",
      "  inflating: Farm/Stable/Horses/Jett  \n",
      "  inflating: Farm/Stable/Horses/Cookie  \n",
      "  inflating: Farm/Coop/Chickens/Ethel  \n",
      "  inflating: Farm/Coop/Chickens/.DS_Store  \n",
      "  inflating: __MACOSX/Farm/Coop/Chickens/._.DS_Store  \n",
      "  inflating: Farm/Coop/Chickens/Hippo  \n",
      "  inflating: Farm/Coop/Chickens/Frida  \n",
      "  inflating: Farm/Coop/Chickens/Elvis  \n",
      "  inflating: Farm/Coop/Chickens/Jaba  \n",
      "  inflating: Farm/Coop/Chickens/Buckbeak  \n",
      "  inflating: Farm/Coop/Geese/Boris   \n",
      "  inflating: Farm/Coop/Geese/Amelia  \n",
      "  inflating: Farm/Coop/Geese/Muffin  \n",
      "  inflating: Farm/Coop/Geese/Lucy    \n"
     ]
    }
   ],
   "source": [
    "!unzip Farm.zip"
   ]
  },
  {
   "cell_type": "code",
   "execution_count": 7,
   "id": "08b4db50-188e-4144-b498-c42c21c8f4fe",
   "metadata": {},
   "outputs": [
    {
     "name": "stdout",
     "output_type": "stream",
     "text": [
      "\u001b[01;34mFarm/\u001b[0m\n",
      "├── \u001b[01;34mCoop\u001b[0m\n",
      "│   ├── \u001b[01;34mChickens\u001b[0m\n",
      "│   │   ├── \u001b[00mBuckbeak\u001b[0m\n",
      "│   │   ├── \u001b[00mElvis\u001b[0m\n",
      "│   │   ├── \u001b[00mEthel\u001b[0m\n",
      "│   │   ├── \u001b[00mFrida\u001b[0m\n",
      "│   │   ├── \u001b[00mHippo\u001b[0m\n",
      "│   │   └── \u001b[00mJaba\u001b[0m\n",
      "│   └── \u001b[01;34mGeese\u001b[0m\n",
      "│       ├── \u001b[00mAmelia\u001b[0m\n",
      "│       ├── \u001b[00mBoris\u001b[0m\n",
      "│       ├── \u001b[00mLucy\u001b[0m\n",
      "│       └── \u001b[00mMuffin\u001b[0m\n",
      "└── \u001b[01;34mStable\u001b[0m\n",
      "    └── \u001b[01;34mHorses\u001b[0m\n",
      "        ├── \u001b[00mArcher\u001b[0m\n",
      "        ├── \u001b[00mButtons\u001b[0m\n",
      "        ├── \u001b[00mCookie\u001b[0m\n",
      "        └── \u001b[00mJett\u001b[0m\n",
      "\n",
      "5 directories, 14 files\n"
     ]
    }
   ],
   "source": [
    "!tree Farm/"
   ]
  },
  {
   "cell_type": "markdown",
   "id": "14809cd7-fbc0-41f3-81e1-26fad651f112",
   "metadata": {},
   "source": [
    "## Part 2"
   ]
  },
  {
   "cell_type": "markdown",
   "id": "6356afd1-e570-4c22-8ddd-b2ae8e7ba822",
   "metadata": {},
   "source": [
    "#### 2.1. Open a new terminal window. Navigate to the <span style='color:green'>Farm</span> folder."
   ]
  },
  {
   "cell_type": "code",
   "execution_count": 6,
   "id": "658970b0-f27d-4b15-a906-2f356e27d76d",
   "metadata": {},
   "outputs": [
    {
     "name": "stdout",
     "output_type": "stream",
     "text": [
      "/Users/vera/Learning/Udemy/TheLinuxCommandLineBootcampColtSteel/Navigation\n"
     ]
    }
   ],
   "source": [
    "!pwd"
   ]
  },
  {
   "cell_type": "code",
   "execution_count": 7,
   "id": "d07eeda6-4cb8-49b8-ac1d-c1981c5d0e74",
   "metadata": {},
   "outputs": [
    {
     "name": "stdout",
     "output_type": "stream",
     "text": [
      "/Users/vera/Learning/Udemy/TheLinuxCommandLineBootcampColtSteel/Navigation/Farm\n"
     ]
    }
   ],
   "source": [
    "%cd Farm/"
   ]
  },
  {
   "cell_type": "markdown",
   "id": "d9092be2-970a-4b10-a81b-944943045990",
   "metadata": {},
   "source": [
    "#### 2.2. List the contents of the <span style='color:green'>Farm</span> directory."
   ]
  },
  {
   "cell_type": "code",
   "execution_count": 8,
   "id": "13ef08f4-983c-4b38-87ef-772bcd1ca990",
   "metadata": {},
   "outputs": [
    {
     "name": "stdout",
     "output_type": "stream",
     "text": [
      "\u001b[36mCoop\u001b[m\u001b[m   \u001b[36mStable\u001b[m\u001b[m\n",
      "\n",
      "./Coop:\n",
      "\u001b[36mChickens\u001b[m\u001b[m \u001b[36mGeese\u001b[m\u001b[m\n",
      "\n",
      "./Coop/Chickens:\n",
      "Buckbeak Elvis    Ethel    Frida    Hippo    Jaba\n",
      "\n",
      "./Coop/Geese:\n",
      "Amelia Boris  Lucy   Muffin\n",
      "\n",
      "./Stable:\n",
      "\u001b[36mHorses\u001b[m\u001b[m\n",
      "\n",
      "./Stable/Horses:\n",
      "Archer  Buttons Cookie  Jett\n"
     ]
    }
   ],
   "source": [
    "!ls -R"
   ]
  },
  {
   "cell_type": "markdown",
   "id": "98c0011e-cdfd-4f2a-802e-0b824323bd7c",
   "metadata": {},
   "source": [
    "#### 2.3 \"Move\" into the <span style='color:green'>Coop</span> folder."
   ]
  },
  {
   "cell_type": "code",
   "execution_count": 9,
   "id": "d15d8e21-3bb1-4203-8cde-c17d05a23003",
   "metadata": {},
   "outputs": [
    {
     "name": "stdout",
     "output_type": "stream",
     "text": [
      "/Users/vera/Learning/Udemy/TheLinuxCommandLineBootcampColtSteel/Navigation/Farm/Coop\n"
     ]
    }
   ],
   "source": [
    "%cd Coop/"
   ]
  },
  {
   "cell_type": "markdown",
   "id": "ace2a404-1a2a-44c3-802e-18f1f9ad74fe",
   "metadata": {},
   "source": [
    "#### 2.4. List the contents of the <span style='color:green'>Coop</span> folder."
   ]
  },
  {
   "cell_type": "code",
   "execution_count": 10,
   "id": "67a9c08a-9730-47cd-ad65-344ad171d372",
   "metadata": {},
   "outputs": [
    {
     "name": "stdout",
     "output_type": "stream",
     "text": [
      "\u001b[36mChickens\u001b[m\u001b[m \u001b[36mGeese\u001b[m\u001b[m\n"
     ]
    }
   ],
   "source": [
    "!ls ."
   ]
  },
  {
   "cell_type": "markdown",
   "id": "6edd224d-942e-4369-a814-0a414c827f81",
   "metadata": {},
   "source": [
    "#### 2.5. \"Move\" into the <span style='color:green'>Chickens</span> folder."
   ]
  },
  {
   "cell_type": "code",
   "execution_count": 11,
   "id": "524a2c73-37df-4f40-b6d1-d1ab392f04dc",
   "metadata": {},
   "outputs": [
    {
     "name": "stdout",
     "output_type": "stream",
     "text": [
      "/Users/vera/Learning/Udemy/TheLinuxCommandLineBootcampColtSteel/Navigation/Farm/Coop/Chickens\n"
     ]
    }
   ],
   "source": [
    "%cd Chickens/"
   ]
  },
  {
   "cell_type": "markdown",
   "id": "555862a0-91ad-4d34-b0ee-4cb651a259c9",
   "metadata": {},
   "source": [
    "#### 2.6. List out the chickens in the <span style='color:green'>Chickens</span> folder.  How many are there?"
   ]
  },
  {
   "cell_type": "code",
   "execution_count": 12,
   "id": "fbada593-4ccb-4fcd-819b-2f8994ed9ce5",
   "metadata": {},
   "outputs": [
    {
     "name": "stdout",
     "output_type": "stream",
     "text": [
      "Buckbeak Elvis    Ethel    Frida    Hippo    Jaba\n",
      "       6\n"
     ]
    }
   ],
   "source": [
    "# There are 6 of them.\n",
    "!ls .\n",
    "!ls . | wc -w"
   ]
  },
  {
   "cell_type": "markdown",
   "id": "0f9908bc-dd03-4e9a-b5d2-dd0950461ba3",
   "metadata": {},
   "source": [
    "#### 2.7. One of the chickens is very very old, which one is it? (which file in the <span style='color:green'>Chickens</span> folder has the oldest modification time?) Use a command to figure it out!"
   ]
  },
  {
   "cell_type": "code",
   "execution_count": 13,
   "id": "b549bd13-1e96-449c-8212-8cb1ad30a087",
   "metadata": {},
   "outputs": [
    {
     "name": "stdout",
     "output_type": "stream",
     "text": [
      "total 0\n",
      "-rw-r--r--@ 1 vera  staff  0 May  3  2021 Buckbeak\n",
      "-rw-r--r--@ 1 vera  staff  0 Jan  1  1980 Elvis\n",
      "-rw-r--r--@ 1 vera  staff  0 May  3  2021 Ethel\n",
      "-rw-r--r--@ 1 vera  staff  0 May  3  2021 Frida\n",
      "-rw-r--r--@ 1 vera  staff  0 Nov 11  2021 Hippo\n",
      "-rw-r--r--@ 1 vera  staff  0 May  3  2021 Jaba\n"
     ]
    }
   ],
   "source": [
    "# It is important to unzip Farm.zip file via Linux unzip command, otherwise there is an issue with a time conversion!\n",
    "# Elvis is the oldest chicken\n",
    "!ls -l"
   ]
  },
  {
   "cell_type": "markdown",
   "id": "23ee1749-40b6-4ef1-984c-237f9e046125",
   "metadata": {},
   "source": [
    "#### 2.8. In a single command, move from the <span style='color:green'>Chickens</span> directory to the <span style='color:green'>Geese</span> directory.  Consult the folder structure written out above if needed."
   ]
  },
  {
   "cell_type": "code",
   "execution_count": 14,
   "id": "682c49bf-d5bb-4f0b-ae37-2e4826c07879",
   "metadata": {},
   "outputs": [
    {
     "name": "stdout",
     "output_type": "stream",
     "text": [
      "/Users/vera/Learning/Udemy/TheLinuxCommandLineBootcampColtSteel/Navigation/Farm/Coop/Geese\n"
     ]
    }
   ],
   "source": [
    "%cd ../Geese/"
   ]
  },
  {
   "cell_type": "markdown",
   "id": "c9a69d17-3016-44b5-b1ba-b00dcaefda2e",
   "metadata": {},
   "source": [
    "#### 2.9. How many geese (files) are in the <span style='color:green'>Geese</span> directory?"
   ]
  },
  {
   "cell_type": "code",
   "execution_count": 15,
   "id": "a457c5fd-3cdb-413a-a55d-24044da6c1a4",
   "metadata": {},
   "outputs": [
    {
     "name": "stdout",
     "output_type": "stream",
     "text": [
      "       4\n"
     ]
    }
   ],
   "source": [
    "# There are four files in the Geese directory.\n",
    "!ls . | wc -l"
   ]
  },
  {
   "cell_type": "code",
   "execution_count": 16,
   "id": "3aa2f298-d0a8-445c-9472-a55e4f55005c",
   "metadata": {},
   "outputs": [
    {
     "name": "stdout",
     "output_type": "stream",
     "text": [
      "Amelia Boris  Lucy   Muffin\n"
     ]
    }
   ],
   "source": [
    "!ls"
   ]
  },
  {
   "cell_type": "markdown",
   "id": "1ed455a6-b232-46b2-a1cb-9f9a6defe894",
   "metadata": {},
   "source": [
    "#### 2.10. One of the geese is sitting on a golden egg!  It's larger than the other geese. Which one is it?  (which file in the <span style='color:green'>Geese</span> folder is the largest?).  Use a command to figure it out!"
   ]
  },
  {
   "cell_type": "code",
   "execution_count": 17,
   "id": "5683c9c2-e534-46f8-b1e4-f0b266f47afa",
   "metadata": {},
   "outputs": [
    {
     "name": "stdout",
     "output_type": "stream",
     "text": [
      "total 8\n",
      "-rw-r--r--@ 1 vera  staff     0B May  3  2021 Amelia\n",
      "-rw-r--r--@ 1 vera  staff     0B May  3  2021 Boris\n",
      "-rw-r--r--@ 1 vera  staff     0B May  3  2021 Lucy\n",
      "-rw-r--r--@ 1 vera  staff    15B May  3  2021 Muffin\n"
     ]
    }
   ],
   "source": [
    "# Maffin is the largest file\n",
    "!ls -lh"
   ]
  },
  {
   "cell_type": "markdown",
   "id": "743a585f-e65c-4f3a-b48a-c11a627c1314",
   "metadata": {},
   "source": [
    "#### 2.11. Navigate to the <span style='color:green'>Horses</span> directory.  Consult the folder structure written out above, if needed."
   ]
  },
  {
   "cell_type": "code",
   "execution_count": 18,
   "id": "b818b401-04a1-40f8-9724-2a669fe33573",
   "metadata": {},
   "outputs": [
    {
     "name": "stdout",
     "output_type": "stream",
     "text": [
      "/Users/vera/Learning/Udemy/TheLinuxCommandLineBootcampColtSteel/Navigation/Farm/Coop/Geese\n"
     ]
    }
   ],
   "source": [
    "!pwd"
   ]
  },
  {
   "cell_type": "code",
   "execution_count": 19,
   "id": "462f95db-eb1b-47fa-a58a-f62a69d83a9a",
   "metadata": {},
   "outputs": [
    {
     "name": "stdout",
     "output_type": "stream",
     "text": [
      "\u001b[01;34m../../\u001b[0m\n",
      "├── \u001b[01;34mCoop\u001b[0m\n",
      "│   ├── \u001b[01;34mChickens\u001b[0m\n",
      "│   │   ├── \u001b[00mBuckbeak\u001b[0m\n",
      "│   │   ├── \u001b[00mElvis\u001b[0m\n",
      "│   │   ├── \u001b[00mEthel\u001b[0m\n",
      "│   │   ├── \u001b[00mFrida\u001b[0m\n",
      "│   │   ├── \u001b[00mHippo\u001b[0m\n",
      "│   │   └── \u001b[00mJaba\u001b[0m\n",
      "│   └── \u001b[01;34mGeese\u001b[0m\n",
      "│       ├── \u001b[00mAmelia\u001b[0m\n",
      "│       ├── \u001b[00mBoris\u001b[0m\n",
      "│       ├── \u001b[00mLucy\u001b[0m\n",
      "│       └── \u001b[00mMuffin\u001b[0m\n",
      "└── \u001b[01;34mStable\u001b[0m\n",
      "    └── \u001b[01;34mHorses\u001b[0m\n",
      "        ├── \u001b[00mArcher\u001b[0m\n",
      "        ├── \u001b[00mButtons\u001b[0m\n",
      "        ├── \u001b[00mCookie\u001b[0m\n",
      "        └── \u001b[00mJett\u001b[0m\n",
      "\n",
      "5 directories, 14 files\n"
     ]
    }
   ],
   "source": [
    "!tree ../../"
   ]
  },
  {
   "cell_type": "code",
   "execution_count": 20,
   "id": "46acd387-6549-4103-b5ee-ff4621d5929f",
   "metadata": {},
   "outputs": [
    {
     "name": "stdout",
     "output_type": "stream",
     "text": [
      "/Users/vera/Learning/Udemy/TheLinuxCommandLineBootcampColtSteel/Navigation/Farm/Stable/Horses\n"
     ]
    }
   ],
   "source": [
    "%cd ../../Stable/Horses/"
   ]
  },
  {
   "cell_type": "markdown",
   "id": "55e8dd9f-e091-42e7-b020-b1adf0ad1083",
   "metadata": {},
   "source": [
    "#### 2.12. How many horses are in the <span style='color:green'>Horses</span> directory?"
   ]
  },
  {
   "cell_type": "code",
   "execution_count": 21,
   "id": "e9aceb6d-8ab6-4982-badb-f2429c208fed",
   "metadata": {},
   "outputs": [
    {
     "name": "stdout",
     "output_type": "stream",
     "text": [
      "       4\n"
     ]
    }
   ],
   "source": [
    "# There are four horses in the Horses direcotry\n",
    "!ls . | wc -l"
   ]
  },
  {
   "cell_type": "markdown",
   "id": "2c1c853b-5946-42ce-97f6-9bce9563b5eb",
   "metadata": {},
   "source": [
    "#### 2.13. Wait! There is a hidden horse in the <span style='color:green'>Horses</span> directory! What is it's name?? "
   ]
  },
  {
   "cell_type": "code",
   "execution_count": 22,
   "id": "07de4fb2-c972-42f7-83b1-51dc673b5855",
   "metadata": {},
   "outputs": [
    {
     "name": "stdout",
     "output_type": "stream",
     "text": [
      "total 0\n",
      "drwxr-xr-x@ 7 vera  staff  224 May  3  2021 \u001b[36m.\u001b[m\u001b[m\n",
      "drwxr-xr-x@ 3 vera  staff   96 May  3  2021 \u001b[36m..\u001b[m\u001b[m\n",
      "-rw-r--r--@ 1 vera  staff    0 May  3  2021 .Troy\n",
      "-rw-r--r--@ 1 vera  staff    0 May  3  2021 Archer\n",
      "-rw-r--r--@ 1 vera  staff    0 May  3  2021 Buttons\n",
      "-rw-r--r--@ 1 vera  staff    0 May  3  2021 Cookie\n",
      "-rw-r--r--@ 1 vera  staff    0 May  3  2021 Jett\n"
     ]
    }
   ],
   "source": [
    "# The hidden horse's name is Troy.\n",
    "!ls -al"
   ]
  },
  {
   "cell_type": "markdown",
   "id": "83709746-20e3-4b53-b3b9-bf498d96ca25",
   "metadata": {},
   "source": [
    "#### Bonus: List out the contents of the <span style='color:green'>Horses</span> directory as a comma separated list.  You'll need to dig into the man pages to find the correct option.  Perhaps search the <span style='color:red'>ls</span> man page for \"comma\"?"
   ]
  },
  {
   "cell_type": "code",
   "execution_count": 23,
   "id": "a53aca45-8bc8-46df-aa6c-d89a2c9fd40c",
   "metadata": {},
   "outputs": [
    {
     "name": "stdout",
     "output_type": "stream",
     "text": [
      "Archer, Buttons, Cookie, Jett\n"
     ]
    }
   ],
   "source": [
    "# man ls -> / comma (with space before and after)\n",
    "!ls -m"
   ]
  },
  {
   "cell_type": "code",
   "execution_count": 24,
   "id": "9b28637d-963e-4797-9bcb-b954c3811431",
   "metadata": {},
   "outputs": [
    {
     "name": "stdout",
     "output_type": "stream",
     "text": [
      "/Users/vera/Learning/Udemy/TheLinuxCommandLineBootcampColtSteel/Navigation\n"
     ]
    }
   ],
   "source": [
    "%cd ../../../\n",
    "!rm -r Farm/ __MACOSX"
   ]
  }
 ],
 "metadata": {
  "kernelspec": {
   "display_name": "Python 3",
   "language": "python",
   "name": "python3"
  },
  "language_info": {
   "codemirror_mode": {
    "name": "ipython",
    "version": 3
   },
   "file_extension": ".py",
   "mimetype": "text/x-python",
   "name": "python",
   "nbconvert_exporter": "python",
   "pygments_lexer": "ipython3",
   "version": "3.9.12"
  }
 },
 "nbformat": 4,
 "nbformat_minor": 5
}
