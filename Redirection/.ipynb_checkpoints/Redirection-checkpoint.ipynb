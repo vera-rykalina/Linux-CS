{
 "cells": [
  {
   "cell_type": "markdown",
   "id": "f514791d-6761-4c55-9ae2-f1b644af67ee",
   "metadata": {},
   "source": [
    "# Redirection Exercise"
   ]
  },
  {
   "cell_type": "markdown",
   "id": "c75062ef-0a03-4879-8082-92ea5da8fccc",
   "metadata": {
    "tags": []
   },
   "source": [
    "#### Download the files for this exercise:\n",
    "#### <span style='color:green'> Wildlife.zip </span>\n",
    "#### Unzip the <span style='color:green'> Wildlife.zip </span> folder and navigate to it via the command line. "
   ]
  },
  {
   "cell_type": "code",
   "execution_count": 41,
   "id": "f09618eb-2eb1-4fdc-a33b-885feed8d8e0",
   "metadata": {},
   "outputs": [
    {
     "name": "stdout",
     "output_type": "stream",
     "text": [
      "/Users/vera/Learning/Udemy/TheLinuxCommandLineBootcampColtSteel/Redirection\n"
     ]
    }
   ],
   "source": [
    "!pwd"
   ]
  },
  {
   "cell_type": "code",
   "execution_count": 42,
   "id": "d70cb410-45eb-4b5e-8a5f-2556e0dd8670",
   "metadata": {},
   "outputs": [
    {
     "name": "stdout",
     "output_type": "stream",
     "text": [
      "Redirection.ipynb Wildlife.zip\n"
     ]
    }
   ],
   "source": [
    "!ls"
   ]
  },
  {
   "cell_type": "code",
   "execution_count": 43,
   "id": "b4724135-1e2a-49d6-83ca-eabb7d735463",
   "metadata": {},
   "outputs": [
    {
     "name": "stdout",
     "output_type": "stream",
     "text": [
      "Archive:  Wildlife.zip\n",
      "   creating: Wildlife/\n",
      "  inflating: Wildlife/angela-survey.txt  \n",
      "  inflating: Wildlife/nico-survey.txt  \n",
      "  inflating: Wildlife/juan-survey.txt  \n"
     ]
    }
   ],
   "source": [
    "# Do it once\n",
    "!unzip Wildlife.zip"
   ]
  },
  {
   "cell_type": "markdown",
   "id": "b393a08d-1396-43c4-aafe-d1f3088d41e8",
   "metadata": {},
   "source": [
    "## Task"
   ]
  },
  {
   "cell_type": "markdown",
   "id": "ac7d432a-50f6-4985-b537-bb46bd978436",
   "metadata": {},
   "source": [
    "#### You are taking part in a wildlife survey in a remote portion of the Peruvian Amazon! This morning, three of your research assistants each went on transect walks where they recorded the individual species they observed.     Your (simple) job is to combine their findings into a new file that contains all the species that were observed!"
   ]
  },
  {
   "cell_type": "markdown",
   "id": "c2bf66be-3d90-4d8f-b0de-aadb6e732520",
   "metadata": {},
   "source": [
    "#### 1. Create a new file called <span style='color:green'>all-species.txt</span> that contains the combined contents of <span style='color:green'>angela-survey.txt</span>, <span style='color:green'>nico-survey.txt</span>, and <span style='color:green'>juan-survey.txt</span>. Do this using a single command!"
   ]
  },
  {
   "cell_type": "code",
   "execution_count": 44,
   "id": "a4fb43af-baa7-4469-9a5b-4badefaf47bb",
   "metadata": {},
   "outputs": [
    {
     "name": "stdout",
     "output_type": "stream",
     "text": [
      "Redirection.ipynb \u001b[36mWildlife\u001b[m\u001b[m          Wildlife.zip\n"
     ]
    }
   ],
   "source": [
    "!ls"
   ]
  },
  {
   "cell_type": "code",
   "execution_count": 45,
   "id": "c0520445-9d34-4757-a0ff-2ab683a5ff45",
   "metadata": {},
   "outputs": [
    {
     "name": "stdout",
     "output_type": "stream",
     "text": [
      "/Users/vera/Learning/Udemy/TheLinuxCommandLineBootcampColtSteel/Redirection/Wildlife\n"
     ]
    }
   ],
   "source": [
    "%cd Wildlife/"
   ]
  },
  {
   "cell_type": "code",
   "execution_count": 46,
   "id": "f2d5fae3-1dd7-420b-948b-1761d147190f",
   "metadata": {},
   "outputs": [],
   "source": [
    "!cat angela-survey.txt nico-survey.txt juan-survey.txt > all-species.txt"
   ]
  },
  {
   "cell_type": "markdown",
   "id": "eff50d24-f550-4df1-a19a-1b2164d8e0ae",
   "metadata": {},
   "source": [
    "#### 2. The problem with the <span style='color:green'>all-species.txt</span> file is that it contains duplicate entries! Use a single command to sort the lines in alphabetical order, only sorting uniques, and send the output to a new file called <span style='color:green'>sorted-animals.txt</span>."
   ]
  },
  {
   "cell_type": "code",
   "execution_count": 47,
   "id": "0c26fda3-af01-450d-a82c-becc54c617fc",
   "metadata": {},
   "outputs": [],
   "source": [
    "!sort -u all-species.txt > sorted-animals.txt"
   ]
  },
  {
   "cell_type": "code",
   "execution_count": 48,
   "id": "70477e1b-4800-4502-ab47-bcfcf12a1eb9",
   "metadata": {},
   "outputs": [
    {
     "name": "stdout",
     "output_type": "stream",
     "text": [
      "Agouti\n",
      "Atlantic Titi\n",
      "Blue and Gold Macaw\n",
      "Capuchin\n",
      "Capybara\n",
      "Collared Peccary\n",
      "Green-Winged Macaw\n",
      "Mealy Parrot\n",
      "Monk Saki Monkey\n",
      "Red Howler Monkey\n",
      "Scarlet Macaw\n",
      "Spectacled Caiman\n",
      "Spider Monkey\n",
      "Tapir\n"
     ]
    }
   ],
   "source": [
    "!cat sorted-animals.txt"
   ]
  },
  {
   "cell_type": "markdown",
   "id": "715c9e2c-5d7a-42b0-98e1-c04515c7a9f3",
   "metadata": {},
   "source": [
    "#### 3. Now, you go out for a nice morning stroll and stumble upon a large anaconda sunning itself on a log.  You should add this observation to the list of species!"
   ]
  },
  {
   "cell_type": "markdown",
   "id": "5d153bb3-dca9-4e91-a658-598955590f7f",
   "metadata": {},
   "source": [
    "#### a) Start by appending the current date to the end of the sorted-animals.txt file using a command (don't open the file manually!)"
   ]
  },
  {
   "cell_type": "code",
   "execution_count": 49,
   "id": "0d51dd95-91d6-4eb7-a2c7-1972d9009bda",
   "metadata": {},
   "outputs": [],
   "source": [
    "!date >> sorted-animals.txt"
   ]
  },
  {
   "cell_type": "code",
   "execution_count": 50,
   "id": "7799ffb8-85f3-4584-b299-e6eec1cd45b2",
   "metadata": {},
   "outputs": [
    {
     "name": "stdout",
     "output_type": "stream",
     "text": [
      "Agouti\n",
      "Atlantic Titi\n",
      "Blue and Gold Macaw\n",
      "Capuchin\n",
      "Capybara\n",
      "Collared Peccary\n",
      "Green-Winged Macaw\n",
      "Mealy Parrot\n",
      "Monk Saki Monkey\n",
      "Red Howler Monkey\n",
      "Scarlet Macaw\n",
      "Spectacled Caiman\n",
      "Spider Monkey\n",
      "Tapir\n",
      "Tue Oct  4 20:54:18 CEST 2022\n"
     ]
    }
   ],
   "source": [
    "!cat sorted-animals.txt"
   ]
  },
  {
   "cell_type": "markdown",
   "id": "9e28ef06-c9d8-4b13-a65f-17154f03601c",
   "metadata": {},
   "source": [
    "#### b) Then append the text \"Green Anaconda\" to the end of <span style='color:green'>sorted-animals.txt</span>."
   ]
  },
  {
   "cell_type": "code",
   "execution_count": 51,
   "id": "86c83f11-7966-4a30-8a66-1722829bf9b1",
   "metadata": {},
   "outputs": [],
   "source": [
    "!echo \"Green Anaconda\" >> sorted-animals.txt "
   ]
  },
  {
   "cell_type": "code",
   "execution_count": 52,
   "id": "659d6637-d78f-4354-876c-24ff4b140aa1",
   "metadata": {},
   "outputs": [
    {
     "name": "stdout",
     "output_type": "stream",
     "text": [
      "Agouti\n",
      "Atlantic Titi\n",
      "Blue and Gold Macaw\n",
      "Capuchin\n",
      "Capybara\n",
      "Collared Peccary\n",
      "Green-Winged Macaw\n",
      "Mealy Parrot\n",
      "Monk Saki Monkey\n",
      "Red Howler Monkey\n",
      "Scarlet Macaw\n",
      "Spectacled Caiman\n",
      "Spider Monkey\n",
      "Tapir\n",
      "Tue Oct  4 20:54:18 CEST 2022\n",
      "Green Anaconda\n"
     ]
    }
   ],
   "source": [
    "!cat sorted-animals.txt"
   ]
  },
  {
   "cell_type": "markdown",
   "id": "541494f6-b534-435a-aeaa-357381e2a0be",
   "metadata": {},
   "source": [
    "#### 4. Run the non-existent command <span style='color:red'>ughhh</span> and redirect any error messages so that they are appended to the <span style='color:green'>sorted-animals.txt</span> file."
   ]
  },
  {
   "cell_type": "code",
   "execution_count": 53,
   "id": "796dcc67-96b6-40e5-ac96-0f92beb9c1d7",
   "metadata": {},
   "outputs": [],
   "source": [
    "!ughhh 2>> sorted-animals.txt"
   ]
  },
  {
   "cell_type": "code",
   "execution_count": 54,
   "id": "0b42c84d-afcf-40a2-a91f-5a060149672c",
   "metadata": {},
   "outputs": [
    {
     "name": "stdout",
     "output_type": "stream",
     "text": [
      "Agouti\n",
      "Atlantic Titi\n",
      "Blue and Gold Macaw\n",
      "Capuchin\n",
      "Capybara\n",
      "Collared Peccary\n",
      "Green-Winged Macaw\n",
      "Mealy Parrot\n",
      "Monk Saki Monkey\n",
      "Red Howler Monkey\n",
      "Scarlet Macaw\n",
      "Spectacled Caiman\n",
      "Spider Monkey\n",
      "Tapir\n",
      "Tue Oct  4 20:54:18 CEST 2022\n",
      "Green Anaconda\n",
      "/bin/bash: ughhh: command not found\n"
     ]
    }
   ],
   "source": [
    "!cat sorted-animals.txt"
   ]
  }
 ],
 "metadata": {
  "kernelspec": {
   "display_name": "Python 3 (ipykernel)",
   "language": "python",
   "name": "python3"
  },
  "language_info": {
   "codemirror_mode": {
    "name": "ipython",
    "version": 3
   },
   "file_extension": ".py",
   "mimetype": "text/x-python",
   "name": "python",
   "nbconvert_exporter": "python",
   "pygments_lexer": "ipython3",
   "version": "3.9.12"
  }
 },
 "nbformat": 4,
 "nbformat_minor": 5
}
