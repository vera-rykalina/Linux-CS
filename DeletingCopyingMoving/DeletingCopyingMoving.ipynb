{
 "cells": [
  {
   "cell_type": "markdown",
   "id": "9fd6d950-ccdf-4db2-84df-b8ba81dc3080",
   "metadata": {},
   "source": [
    "# Deleting, Moving & Copying Exercise"
   ]
  },
  {
   "cell_type": "markdown",
   "id": "d35062d2-3a60-4233-8948-c2697cbcd72a",
   "metadata": {
    "tags": []
   },
   "source": [
    "## Part 1: Creating The Folders & Files"
   ]
  },
  {
   "cell_type": "markdown",
   "id": "f513c1c5-6aa3-477f-9554-5384f63909f3",
   "metadata": {},
   "source": [
    "#### 1.1. Before we can delete, move, or copy things...we need things! It's time to get some more practice using <span style='color:red'> touch </span> and <span style='color:red'> mkdir </span>. Please create a new directory somewhere on your machine called <span style='color:green'> Bootcamp </span>. Inside of it, create the the folders and files indicated below:"
   ]
  },
  {
   "cell_type": "code",
   "execution_count": 47,
   "id": "b91867b8-f26d-4a55-8107-1d8dd163c9d6",
   "metadata": {},
   "outputs": [],
   "source": [
    "#Bootcamp/\n",
    "#\tFallCohort/\n",
    "#\t\tItalo.txt\n",
    "#\t\tEdgar.txt\n",
    "#\t\tLinus.txt\n",
    "#\t\tSara.txt \n",
    "#\t\tSilvio.txt\n",
    "#\t\tWaitlist/\n",
    "#\t\t\tHanna.txt\n",
    "#\t\t\tHaris.txt\n",
    "#\t\t\tNetta.txt\n",
    "#\tWinterCohort/\n",
    "#\t\tSantiago.txt\n",
    "#\t\tIris.txt\n",
    "#\t\tNaomi.txt"
   ]
  },
  {
   "cell_type": "code",
   "execution_count": 48,
   "id": "5f5bad98-69c5-4753-a09e-c1c4aa6a5688",
   "metadata": {},
   "outputs": [
    {
     "name": "stdout",
     "output_type": "stream",
     "text": [
      "/Users/vera/Learning/Udemy/TheLinuxCommandLineBootcampColtSteel/DeletingCopyingMoving/Bootcamp/FallCohort\n"
     ]
    }
   ],
   "source": [
    "!mkdir -p Bootcamp/{FallCohort/Waitlist,WinterCohort}\n",
    "%cd Bootcamp/FallCohort/"
   ]
  },
  {
   "cell_type": "code",
   "execution_count": 49,
   "id": "7d60e47d-187a-453e-bd0b-b76c45734703",
   "metadata": {},
   "outputs": [],
   "source": [
    "!touch Italo.txt Edgar.txt Linus.txt Sara.txt Silvio.txt"
   ]
  },
  {
   "cell_type": "code",
   "execution_count": 50,
   "id": "4b77cdfd-bf39-4702-be8d-8f29b68156ae",
   "metadata": {},
   "outputs": [
    {
     "name": "stdout",
     "output_type": "stream",
     "text": [
      "/Users/vera/Learning/Udemy/TheLinuxCommandLineBootcampColtSteel/DeletingCopyingMoving/Bootcamp/FallCohort\n",
      "/Users/vera/Learning/Udemy/TheLinuxCommandLineBootcampColtSteel/DeletingCopyingMoving/Bootcamp/FallCohort/Waitlist\n"
     ]
    }
   ],
   "source": [
    "!pwd\n",
    "%cd Waitlist/\n",
    "!touch Hanna.txt Haris.txt Netta.txt"
   ]
  },
  {
   "cell_type": "code",
   "execution_count": 51,
   "id": "379e88ef-ef3b-454c-b5bb-1d44f9276e25",
   "metadata": {},
   "outputs": [
    {
     "name": "stdout",
     "output_type": "stream",
     "text": [
      "/Users/vera/Learning/Udemy/TheLinuxCommandLineBootcampColtSteel/DeletingCopyingMoving/Bootcamp/WinterCohort\n"
     ]
    }
   ],
   "source": [
    "%cd ../../WinterCohort/"
   ]
  },
  {
   "cell_type": "code",
   "execution_count": 52,
   "id": "cb23edd3-61ee-464d-a785-7cf1035aa32d",
   "metadata": {},
   "outputs": [],
   "source": [
    "!touch Santiago.txt Iris.txt Naomi.txt"
   ]
  },
  {
   "cell_type": "code",
   "execution_count": 53,
   "id": "d6c98a17-35b9-43c6-88e5-3c8ff585d1ce",
   "metadata": {},
   "outputs": [
    {
     "name": "stdout",
     "output_type": "stream",
     "text": [
      "/Users/vera/Learning/Udemy/TheLinuxCommandLineBootcampColtSteel/DeletingCopyingMoving/Bootcamp\n"
     ]
    }
   ],
   "source": [
    "%cd .."
   ]
  },
  {
   "cell_type": "markdown",
   "id": "f07640c3-c8cf-4271-9838-5d5d2d6bce33",
   "metadata": {},
   "source": [
    "## Part 2: Manipulations With Created Folders & Files"
   ]
  },
  {
   "cell_type": "code",
   "execution_count": 54,
   "id": "8a3c0ed2-82e0-4053-bb12-bc9261592dca",
   "metadata": {},
   "outputs": [
    {
     "name": "stdout",
     "output_type": "stream",
     "text": [
      "/Users/vera/Learning/Udemy/TheLinuxCommandLineBootcampColtSteel/DeletingCopyingMoving/Bootcamp\n"
     ]
    }
   ],
   "source": [
    "!pwd"
   ]
  },
  {
   "cell_type": "code",
   "execution_count": 55,
   "id": "487b9e4f-d85c-4195-ab19-ab310144b332",
   "metadata": {},
   "outputs": [
    {
     "name": "stdout",
     "output_type": "stream",
     "text": [
      "\u001b[36mFallCohort\u001b[m\u001b[m   \u001b[36mWinterCohort\u001b[m\u001b[m\n",
      "\n",
      "./FallCohort:\n",
      "Edgar.txt  Italo.txt  Linus.txt  Sara.txt   Silvio.txt \u001b[36mWaitlist\u001b[m\u001b[m\n",
      "\n",
      "./FallCohort/Waitlist:\n",
      "Hanna.txt Haris.txt Netta.txt\n",
      "\n",
      "./WinterCohort:\n",
      "Iris.txt     Naomi.txt    Santiago.txt\n"
     ]
    }
   ],
   "source": [
    "!ls -R"
   ]
  },
  {
   "cell_type": "markdown",
   "id": "61d55055-c7e6-473e-8887-b666b77b4f20",
   "metadata": {},
   "source": [
    "#### 2.1. Sadly Edgar had to drop out of the course.  Delete the <span style='color:green'> Edgar.txt </span> file in <span style='color:green'> FallCohort </span>."
   ]
  },
  {
   "cell_type": "code",
   "execution_count": 56,
   "id": "6d8e59fe-a19a-4451-a15c-9a849fc23a69",
   "metadata": {},
   "outputs": [],
   "source": [
    "!rm FallCohort/Edgar.txt"
   ]
  },
  {
   "cell_type": "code",
   "execution_count": 57,
   "id": "6759a493-701f-4b1d-801d-2692f86567c3",
   "metadata": {},
   "outputs": [
    {
     "name": "stdout",
     "output_type": "stream",
     "text": [
      "\u001b[36mFallCohort\u001b[m\u001b[m   \u001b[36mWinterCohort\u001b[m\u001b[m\n",
      "\n",
      "./FallCohort:\n",
      "Italo.txt  Linus.txt  Sara.txt   Silvio.txt \u001b[36mWaitlist\u001b[m\u001b[m\n",
      "\n",
      "./FallCohort/Waitlist:\n",
      "Hanna.txt Haris.txt Netta.txt\n",
      "\n",
      "./WinterCohort:\n",
      "Iris.txt     Naomi.txt    Santiago.txt\n"
     ]
    }
   ],
   "source": [
    "!ls -R"
   ]
  },
  {
   "cell_type": "markdown",
   "id": "eb5090fa-af03-47a5-9257-cef8768baea8",
   "metadata": {},
   "source": [
    "#### 2.2. This means we now have space in our Fall Cohort to move someone off of the waitlist.  Please move <span style='color:green'>Netta.txt</span> from the <span style='color:green'>Waitlist</span> folder into the <span style='color:green'>FallCohort</span> folder."
   ]
  },
  {
   "cell_type": "code",
   "execution_count": 58,
   "id": "932251e6-14f5-4eae-8ef5-5d629b8fc195",
   "metadata": {},
   "outputs": [],
   "source": [
    "!mv FallCohort/Waitlist/Netta.txt FallCohort/"
   ]
  },
  {
   "cell_type": "code",
   "execution_count": 59,
   "id": "4da2f6e6-5738-4326-98cf-473b6fe6daf1",
   "metadata": {},
   "outputs": [
    {
     "name": "stdout",
     "output_type": "stream",
     "text": [
      "Italo.txt  Linus.txt  Netta.txt  Sara.txt   Silvio.txt \u001b[36mWaitlist\u001b[m\u001b[m\n"
     ]
    }
   ],
   "source": [
    "!ls FallCohort/"
   ]
  },
  {
   "cell_type": "markdown",
   "id": "bf154d73-72ce-48e5-b841-9336bce7680f",
   "metadata": {},
   "source": [
    "#### 2.3. Please delete the Waitlist folder and its contents"
   ]
  },
  {
   "cell_type": "code",
   "execution_count": 60,
   "id": "05e38d85-f39e-4fc3-add2-1e05cc5c30e0",
   "metadata": {},
   "outputs": [],
   "source": [
    "rm -rf FallCohort/Waitlist/"
   ]
  },
  {
   "cell_type": "markdown",
   "id": "0d8a1560-40a6-4719-b64a-ab0862c6ba37",
   "metadata": {},
   "source": [
    "#### 2.4. It turns out that I misspelled Sara. She spells her name \"Sarah\" with an \"h\" at the end.  Please rename the <span style='color:green'>Sara.txt</span> file to <span style='color:green'>Sarah.txt</span>."
   ]
  },
  {
   "cell_type": "code",
   "execution_count": 61,
   "id": "068d1292-d194-4a38-a939-7ea36832c683",
   "metadata": {},
   "outputs": [
    {
     "name": "stdout",
     "output_type": "stream",
     "text": [
      "/Users/vera/Learning/Udemy/TheLinuxCommandLineBootcampColtSteel/DeletingCopyingMoving/Bootcamp\n",
      "\u001b[01;34m.\u001b[0m\n",
      "├── \u001b[01;34mFallCohort\u001b[0m\n",
      "│   ├── \u001b[00mItalo.txt\u001b[0m\n",
      "│   ├── \u001b[00mLinus.txt\u001b[0m\n",
      "│   ├── \u001b[00mNetta.txt\u001b[0m\n",
      "│   ├── \u001b[00mSara.txt\u001b[0m\n",
      "│   └── \u001b[00mSilvio.txt\u001b[0m\n",
      "└── \u001b[01;34mWinterCohort\u001b[0m\n",
      "    ├── \u001b[00mIris.txt\u001b[0m\n",
      "    ├── \u001b[00mNaomi.txt\u001b[0m\n",
      "    └── \u001b[00mSantiago.txt\u001b[0m\n",
      "\n",
      "2 directories, 8 files\n"
     ]
    }
   ],
   "source": [
    "!pwd\n",
    "!tree"
   ]
  },
  {
   "cell_type": "code",
   "execution_count": 62,
   "id": "28c76794-ca82-47cc-b165-a745dcc68242",
   "metadata": {},
   "outputs": [],
   "source": [
    "!mv FallCohort/Sara.txt FallCohort/Sarah.txt"
   ]
  },
  {
   "cell_type": "code",
   "execution_count": 63,
   "id": "6fe86311-2098-4cde-8d8e-27eaed581a30",
   "metadata": {},
   "outputs": [
    {
     "name": "stdout",
     "output_type": "stream",
     "text": [
      "Italo.txt  Linus.txt  Netta.txt  Sarah.txt  Silvio.txt\n"
     ]
    }
   ],
   "source": [
    "!ls -R FallCohort/"
   ]
  },
  {
   "cell_type": "markdown",
   "id": "f078ee4e-8b2e-4f4d-b170-95e5df57cbfc",
   "metadata": {},
   "source": [
    "#### 2.5. Unfortunately Italo is having a bit of a personal emergency, and he would like to move to our Winter Cohort.  Please move the <span style='color:green'>Italo.txt</span> file from <span style='color:green'>FallCohort</span> to the <span style='color:green'>WinterCohort</span> folder."
   ]
  },
  {
   "cell_type": "code",
   "execution_count": 64,
   "id": "b10f3e08-9c59-43b5-af03-df4c52848c67",
   "metadata": {},
   "outputs": [
    {
     "name": "stdout",
     "output_type": "stream",
     "text": [
      "\u001b[01;34m.\u001b[0m\n",
      "├── \u001b[01;34mFallCohort\u001b[0m\n",
      "│   ├── \u001b[00mItalo.txt\u001b[0m\n",
      "│   ├── \u001b[00mLinus.txt\u001b[0m\n",
      "│   ├── \u001b[00mNetta.txt\u001b[0m\n",
      "│   ├── \u001b[00mSarah.txt\u001b[0m\n",
      "│   └── \u001b[00mSilvio.txt\u001b[0m\n",
      "└── \u001b[01;34mWinterCohort\u001b[0m\n",
      "    ├── \u001b[00mIris.txt\u001b[0m\n",
      "    ├── \u001b[00mNaomi.txt\u001b[0m\n",
      "    └── \u001b[00mSantiago.txt\u001b[0m\n",
      "\n",
      "2 directories, 8 files\n"
     ]
    }
   ],
   "source": [
    "!tree"
   ]
  },
  {
   "cell_type": "code",
   "execution_count": 65,
   "id": "f6fc9865-041d-472d-91c6-3764151348d5",
   "metadata": {},
   "outputs": [],
   "source": [
    "!mv FallCohort/Italo.txt WinterCohort/"
   ]
  },
  {
   "cell_type": "code",
   "execution_count": 66,
   "id": "3c0bcd26-b15d-440f-965b-6ce4d66850f3",
   "metadata": {},
   "outputs": [
    {
     "name": "stdout",
     "output_type": "stream",
     "text": [
      "\u001b[36mFallCohort\u001b[m\u001b[m   \u001b[36mWinterCohort\u001b[m\u001b[m\n",
      "\n",
      "./FallCohort:\n",
      "Linus.txt  Netta.txt  Sarah.txt  Silvio.txt\n",
      "\n",
      "./WinterCohort:\n",
      "Iris.txt     Italo.txt    Naomi.txt    Santiago.txt\n"
     ]
    }
   ],
   "source": [
    "!ls -R"
   ]
  },
  {
   "cell_type": "markdown",
   "id": "b81fffe4-de12-4328-9122-84d90c159a39",
   "metadata": {},
   "source": [
    "#### 2.6. Oh no, our entire Winter Cohort had to be cancelled because of a worldwide pandemic :(   We decided to bump all of the scheduled winter students to spring. In the <span style='color:green'>Bootcamp</span> directory create a copy of the <span style='color:green'>WinterCohort</span> folder called <span style='color:green'>SpringCohort</span>. "
   ]
  },
  {
   "cell_type": "code",
   "execution_count": 67,
   "id": "e6060e56-2102-459b-abed-ea0ada7acf31",
   "metadata": {},
   "outputs": [
    {
     "name": "stdout",
     "output_type": "stream",
     "text": [
      "/Users/vera/Learning/Udemy/TheLinuxCommandLineBootcampColtSteel/DeletingCopyingMoving/Bootcamp\n"
     ]
    }
   ],
   "source": [
    "!pwd"
   ]
  },
  {
   "cell_type": "code",
   "execution_count": 68,
   "id": "80560893-59a2-4c97-8363-4e0450c92adf",
   "metadata": {},
   "outputs": [],
   "source": [
    "!cp -r WinterCohort/ SpringCohort"
   ]
  },
  {
   "cell_type": "code",
   "execution_count": 69,
   "id": "e443c380-2134-4a82-bdb2-91aaa9711dec",
   "metadata": {},
   "outputs": [
    {
     "name": "stdout",
     "output_type": "stream",
     "text": [
      "\u001b[36mFallCohort\u001b[m\u001b[m   \u001b[36mSpringCohort\u001b[m\u001b[m \u001b[36mWinterCohort\u001b[m\u001b[m\n",
      "\n",
      "./FallCohort:\n",
      "Linus.txt  Netta.txt  Sarah.txt  Silvio.txt\n",
      "\n",
      "./SpringCohort:\n",
      "Iris.txt     Italo.txt    Naomi.txt    Santiago.txt\n",
      "\n",
      "./WinterCohort:\n",
      "Iris.txt     Italo.txt    Naomi.txt    Santiago.txt\n"
     ]
    }
   ],
   "source": [
    "!ls -R"
   ]
  },
  {
   "cell_type": "markdown",
   "id": "2ddc0430-9b11-4f50-86fa-c8515fbf0d9f",
   "metadata": {},
   "source": [
    "#### 2.7. Please rename the <span style='color:green'>WinterCohort</span> folder to <span style='color:green'>WinterCohortCANCELLED</span>. "
   ]
  },
  {
   "cell_type": "code",
   "execution_count": 70,
   "id": "a64d131e-107b-4847-849f-25eadda30010",
   "metadata": {},
   "outputs": [],
   "source": [
    "!mv WinterCohort/ WinterCohortCANCELLED"
   ]
  },
  {
   "cell_type": "code",
   "execution_count": 71,
   "id": "afb46985-5624-45a0-b89a-6b4be3339e2d",
   "metadata": {},
   "outputs": [
    {
     "name": "stdout",
     "output_type": "stream",
     "text": [
      "\u001b[36mFallCohort\u001b[m\u001b[m            \u001b[36mSpringCohort\u001b[m\u001b[m          \u001b[36mWinterCohortCANCELLED\u001b[m\u001b[m\n",
      "\n",
      "./FallCohort:\n",
      "Linus.txt  Netta.txt  Sarah.txt  Silvio.txt\n",
      "\n",
      "./SpringCohort:\n",
      "Iris.txt     Italo.txt    Naomi.txt    Santiago.txt\n",
      "\n",
      "./WinterCohortCANCELLED:\n",
      "Iris.txt     Italo.txt    Naomi.txt    Santiago.txt\n"
     ]
    }
   ],
   "source": [
    "!ls -R"
   ]
  },
  {
   "cell_type": "markdown",
   "id": "b99a4e85-efca-4216-b206-1aa8eddf8ab8",
   "metadata": {},
   "source": [
    "#### 2.8. Oh no! We're going out of business. Please delete the entire <span style='color:green'> Bootcamp </span> directory 😢"
   ]
  },
  {
   "cell_type": "code",
   "execution_count": 72,
   "id": "d1d01517-f4d0-4939-81c1-bc9a433b9793",
   "metadata": {},
   "outputs": [
    {
     "name": "stdout",
     "output_type": "stream",
     "text": [
      "/Users/vera/Learning/Udemy/TheLinuxCommandLineBootcampColtSteel/DeletingCopyingMoving/Bootcamp\n"
     ]
    }
   ],
   "source": [
    "!pwd"
   ]
  },
  {
   "cell_type": "code",
   "execution_count": 73,
   "id": "65be90f7-4f24-45d2-a969-631260d926c0",
   "metadata": {},
   "outputs": [
    {
     "name": "stdout",
     "output_type": "stream",
     "text": [
      "/Users/vera/Learning/Udemy/TheLinuxCommandLineBootcampColtSteel/DeletingCopyingMoving\n"
     ]
    }
   ],
   "source": [
    "%cd .."
   ]
  },
  {
   "cell_type": "code",
   "execution_count": 74,
   "id": "41df6341-d700-48c6-a4c2-9908cdc3eac9",
   "metadata": {},
   "outputs": [],
   "source": [
    "!rm -rf Bootcamp/"
   ]
  },
  {
   "cell_type": "code",
   "execution_count": 75,
   "id": "734b532c-569c-4b47-a7ee-6356c6b238f7",
   "metadata": {},
   "outputs": [
    {
     "name": "stdout",
     "output_type": "stream",
     "text": [
      "DeletingCopyingMoving.ipynb\n"
     ]
    }
   ],
   "source": [
    "!ls -R"
   ]
  }
 ],
 "metadata": {
  "kernelspec": {
   "display_name": "Python 3",
   "language": "python",
   "name": "python3"
  },
  "language_info": {
   "codemirror_mode": {
    "name": "ipython",
    "version": 3
   },
   "file_extension": ".py",
   "mimetype": "text/x-python",
   "name": "python",
   "nbconvert_exporter": "python",
   "pygments_lexer": "ipython3",
   "version": "3.9.12"
  }
 },
 "nbformat": 4,
 "nbformat_minor": 5
}
